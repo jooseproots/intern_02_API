{
  "nbformat": 4,
  "nbformat_minor": 0,
  "metadata": {
    "colab": {
      "provenance": []
    },
    "kernelspec": {
      "name": "python3",
      "display_name": "Python 3"
    },
    "language_info": {
      "name": "python"
    }
  },
  "cells": [
    {
      "cell_type": "markdown",
      "source": [
        "# API challenge"
      ],
      "metadata": {
        "id": "UQqA7L7eGPkG"
      }
    },
    {
      "cell_type": "code",
      "execution_count": 61,
      "metadata": {
        "id": "lH_RBQREhMSm"
      },
      "outputs": [],
      "source": [
        "import requests as rq\n",
        "import plotly.graph_objects as go"
      ]
    },
    {
      "cell_type": "markdown",
      "source": [
        "## Forest sector's contribution to GDP"
      ],
      "metadata": {
        "id": "G6g8NT5aGUvg"
      }
    },
    {
      "cell_type": "markdown",
      "source": [
        "First an analysis on the forestry sector's contribution to Estonian and Finnish s GDP over 10 years is concluded. Yearly GDP is considered, since Finnish databases do not have quarterly data. GDP and the value of the forestry industry of both countries from 2013 to 2022 is requested from national statistics databases."
      ],
      "metadata": {
        "id": "TmkMDfMGGp-i"
      }
    },
    {
      "cell_type": "markdown",
      "source": [
        "Request for Estonia's GDP:"
      ],
      "metadata": {
        "id": "CzSMMdupbIqE"
      }
    },
    {
      "cell_type": "code",
      "source": [
        "est_url = 'https://andmed.stat.ee/api/v1/et/stat/RAA0012'\n",
        "\n",
        "est_gdp_data = {\n",
        "  \"query\": [\n",
        "    {\n",
        "      \"code\": \"Aasta\",\n",
        "      \"selection\": {\n",
        "        \"filter\": \"item\",\n",
        "        \"values\": [\n",
        "          \"2013\",\n",
        "          \"2014\",\n",
        "          \"2015\",\n",
        "          \"2016\",\n",
        "          \"2017\",\n",
        "          \"2018\",\n",
        "          \"2019\",\n",
        "          \"2020\",\n",
        "          \"2021\",\n",
        "          \"2022\"\n",
        "        ]\n",
        "      }\n",
        "    },\n",
        "    {\n",
        "      \"code\": \"Kvartal\",\n",
        "      \"selection\": {\n",
        "        \"filter\": \"item\",\n",
        "        \"values\": [\n",
        "          \"1\"\n",
        "        ]\n",
        "      }\n",
        "    },\n",
        "    {\n",
        "      \"code\": \"Sesoonne korrigeerimine\",\n",
        "      \"selection\": {\n",
        "        \"filter\": \"item\",\n",
        "        \"values\": [\n",
        "          \"1\"\n",
        "        ]\n",
        "      }\n",
        "    },\n",
        "    {\n",
        "      \"code\": \"Näitaja\",\n",
        "      \"selection\": {\n",
        "        \"filter\": \"item\",\n",
        "        \"values\": [\n",
        "          \"1\"\n",
        "        ]\n",
        "      }\n",
        "    }\n",
        "  ],\n",
        "  \"response\": {\n",
        "    \"format\": \"json-stat2\"\n",
        "  }\n",
        "}\n",
        "\n",
        "est_gdp_response = rq.post(est_url, json=est_gdp_data)\n",
        "est_gdp_response_json = est_gdp_response.json()\n",
        "\n",
        "print(est_gdp_response_json['value'])"
      ],
      "metadata": {
        "colab": {
          "base_uri": "https://localhost:8080/"
        },
        "id": "2VBHuUothb9_",
        "outputId": "113e23c2-1a74-4294-af3d-e501d9d2ab9c"
      },
      "execution_count": 62,
      "outputs": [
        {
          "output_type": "stream",
          "name": "stdout",
          "text": [
            "[18910.8, 20048.2, 20631.4, 21747.9, 23833.6, 25932.2, 27951, 27430, 31169, 36011.1]\n"
          ]
        }
      ]
    },
    {
      "cell_type": "markdown",
      "source": [
        "Request for Finland's GDP:"
      ],
      "metadata": {
        "id": "xqi5lj0bbNFl"
      }
    },
    {
      "cell_type": "code",
      "source": [
        "fin_url = 'https://pxdata.stat.fi:443/PxWeb/api/v1/en/StatFin/vtp/statfin_vtp_pxt_11sf.px'\n",
        "\n",
        "fin_gdp_data = {\n",
        "  \"query\": [\n",
        "    {\n",
        "      \"code\": \"Taloustoimi\",\n",
        "      \"selection\": {\n",
        "        \"filter\": \"item\",\n",
        "        \"values\": [\n",
        "          \"B1GMH\"\n",
        "        ]\n",
        "      }\n",
        "    },\n",
        "    {\n",
        "      \"code\": \"Vuosi\",\n",
        "      \"selection\": {\n",
        "        \"filter\": \"item\",\n",
        "        \"values\": [\n",
        "          \"2013\",\n",
        "          \"2014\",\n",
        "          \"2015\",\n",
        "          \"2016\",\n",
        "          \"2017\",\n",
        "          \"2018\",\n",
        "          \"2019\",\n",
        "          \"2020\",\n",
        "          \"2021\",\n",
        "          \"2022\"\n",
        "        ]\n",
        "      }\n",
        "    },\n",
        "    {\n",
        "      \"code\": \"Tiedot\",\n",
        "      \"selection\": {\n",
        "        \"filter\": \"item\",\n",
        "        \"values\": [\n",
        "          \"cp\"\n",
        "        ]\n",
        "      }\n",
        "    }\n",
        "  ],\n",
        "  \"response\": {\n",
        "    \"format\": \"json-stat2\"\n",
        "  }\n",
        "}\n",
        "\n",
        "fin_gdp_response = rq.post(fin_url, json=fin_gdp_data)\n",
        "fin_gdp_response_json = fin_gdp_response.json()\n",
        "\n",
        "print(fin_gdp_response_json['value'])"
      ],
      "metadata": {
        "colab": {
          "base_uri": "https://localhost:8080/"
        },
        "id": "GC_VhgpK8TD0",
        "outputId": "600c96ce-a2d0-4e03-8943-14eda4742fb5"
      },
      "execution_count": 63,
      "outputs": [
        {
          "output_type": "stream",
          "name": "stdout",
          "text": [
            "[204321, 206897, 211385, 217518, 226301, 233462, 239858, 238038, 250664, 268411]\n"
          ]
        }
      ]
    },
    {
      "cell_type": "markdown",
      "source": [
        "Request for Estonia's forest sector's value added:"
      ],
      "metadata": {
        "id": "FlsNCLGubP1A"
      }
    },
    {
      "cell_type": "code",
      "source": [
        "est_forest_url = 'https://andmed.stat.ee/api/v1/et/stat/RAA0042'\n",
        "\n",
        "est_forest_data = {\n",
        "  \"query\": [\n",
        "    {\n",
        "      \"code\": \"Tegevusala (EMTAK 2008) /komponent\",\n",
        "      \"selection\": {\n",
        "        \"filter\": \"item\",\n",
        "        \"values\": [\n",
        "          \"3\"\n",
        "        ]\n",
        "      }\n",
        "    },\n",
        "    {\n",
        "      \"code\": \"Aasta\",\n",
        "      \"selection\": {\n",
        "        \"filter\": \"item\",\n",
        "        \"values\": [\n",
        "          \"2013\",\n",
        "          \"2014\",\n",
        "          \"2015\",\n",
        "          \"2016\",\n",
        "          \"2017\",\n",
        "          \"2018\",\n",
        "          \"2019\",\n",
        "          \"2020\",\n",
        "          \"2021\",\n",
        "          \"2022\"\n",
        "        ]\n",
        "      }\n",
        "    },\n",
        "    {\n",
        "      \"code\": \"Kvartal\",\n",
        "      \"selection\": {\n",
        "        \"filter\": \"item\",\n",
        "        \"values\": [\n",
        "          \"1\"\n",
        "        ]\n",
        "      }\n",
        "    },\n",
        "    {\n",
        "      \"code\": \"Näitaja\",\n",
        "      \"selection\": {\n",
        "        \"filter\": \"item\",\n",
        "        \"values\": [\n",
        "          \"1\"\n",
        "        ]\n",
        "      }\n",
        "    }\n",
        "  ],\n",
        "  \"response\": {\n",
        "    \"format\": \"json-stat2\"\n",
        "  }\n",
        "}\n",
        "\n",
        "est_forest_response = rq.post(est_forest_url, json=est_forest_data)\n",
        "est_forest_response_json = est_forest_response.json()\n",
        "\n",
        "print(est_forest_response_json['value'])"
      ],
      "metadata": {
        "colab": {
          "base_uri": "https://localhost:8080/"
        },
        "id": "cs9mEIUzMT7C",
        "outputId": "b783f0c2-2053-4121-f841-00ab0ffc38ba"
      },
      "execution_count": 64,
      "outputs": [
        {
          "output_type": "stream",
          "name": "stdout",
          "text": [
            "[220.7, 258, 271, 265.7, 249.2, 292.4, 319.1, 253.8, 313.3, 415.8]\n"
          ]
        }
      ]
    },
    {
      "cell_type": "markdown",
      "source": [
        "Request for Finland's forest sector's value added:"
      ],
      "metadata": {
        "id": "N--8c_ikbcnf"
      }
    },
    {
      "cell_type": "code",
      "source": [
        "fin_forest_url = 'https://pxdata.stat.fi:443/PxWeb/api/v1/en/StatFin/vtp/statfin_vtp_pxt_123h.px'\n",
        "\n",
        "fin_forest_data = {\n",
        "  \"query\": [\n",
        "    {\n",
        "      \"code\": \"Taloustoimi\",\n",
        "      \"selection\": {\n",
        "        \"filter\": \"item\",\n",
        "        \"values\": [\n",
        "          \"B1GPH\"\n",
        "        ]\n",
        "      }\n",
        "    },\n",
        "    {\n",
        "      \"code\": \"Toimiala\",\n",
        "      \"selection\": {\n",
        "        \"filter\": \"item\",\n",
        "        \"values\": [\n",
        "          \"A02\"\n",
        "        ]\n",
        "      }\n",
        "    },\n",
        "    {\n",
        "      \"code\": \"Vuosi\",\n",
        "      \"selection\": {\n",
        "        \"filter\": \"item\",\n",
        "        \"values\": [\n",
        "          \"2013\",\n",
        "          \"2014\",\n",
        "          \"2015\",\n",
        "          \"2016\",\n",
        "          \"2017\",\n",
        "          \"2018\",\n",
        "          \"2019\",\n",
        "          \"2020\",\n",
        "          \"2021\",\n",
        "          \"2022\"\n",
        "        ]\n",
        "      }\n",
        "    },\n",
        "    {\n",
        "      \"code\": \"Tiedot\",\n",
        "      \"selection\": {\n",
        "        \"filter\": \"item\",\n",
        "        \"values\": [\n",
        "          \"cp\"\n",
        "        ]\n",
        "      }\n",
        "    }\n",
        "  ],\n",
        "  \"response\": {\n",
        "    \"format\": \"json-stat2\"\n",
        "  }\n",
        "}\n",
        "\n",
        "fin_forest_response = rq.post(fin_forest_url, json=fin_forest_data)\n",
        "fin_forest_response_json = fin_forest_response.json()\n",
        "\n",
        "print(fin_forest_response_json['value'])"
      ],
      "metadata": {
        "colab": {
          "base_uri": "https://localhost:8080/"
        },
        "id": "XPmR-1ikPEUe",
        "outputId": "47d27eeb-ff05-44e3-bb7d-d451cfb2fb84"
      },
      "execution_count": 65,
      "outputs": [
        {
          "output_type": "stream",
          "name": "stdout",
          "text": [
            "[3306, 3429, 3403, 3582, 3784, 4109, 3925, 4046, 4271, 4117]\n"
          ]
        }
      ]
    },
    {
      "cell_type": "markdown",
      "source": [
        "Calculations for finding the forest sector's contribution to GDP:"
      ],
      "metadata": {
        "id": "tIUe-153bvGP"
      }
    },
    {
      "cell_type": "code",
      "source": [
        "est_forest_to_gdp = [i / j * 100 for i, j in zip(est_forest_response_json['value'], est_gdp_response_json['value'])]\n",
        "fin_forest_to_gdp = [i / j * 100 for i, j in zip(fin_forest_response_json['value'], fin_gdp_response_json['value'])]"
      ],
      "metadata": {
        "id": "vzSlrVjAPfem"
      },
      "execution_count": 66,
      "outputs": []
    },
    {
      "cell_type": "code",
      "source": [
        "# List of years that are being plotted\n",
        "years = list(range(2013, 2023))\n",
        "\n",
        "# Traces for Estonian and Finnish forestry sector to GDP data\n",
        "trace1 = go.Scatter(x=years, y=est_forest_to_gdp, mode='lines+markers', name='Estonia')\n",
        "\n",
        "trace2 = go.Scatter(x=years, y=fin_forest_to_gdp, mode='lines+markers', name='Finland')\n",
        "\n",
        "# Figure from the two traces\n",
        "fig = go.Figure(data=[trace1, trace2])\n",
        "\n",
        "fig.update_layout(\n",
        "    xaxis=dict(tickmode='array', tickvals=years, ticktext=years),\n",
        "    title=\"Forestry sector's contribution to Estonian and Finnish GDP\",\n",
        "    xaxis_title='Year',\n",
        "    yaxis_title=\"Percentage of forestry sector in GDP\"\n",
        ")\n",
        "# Showing the figure\n",
        "fig.show()"
      ],
      "metadata": {
        "colab": {
          "base_uri": "https://localhost:8080/",
          "height": 542
        },
        "id": "iN9v4ZM-SQcA",
        "outputId": "bba20807-d6be-41d9-b040-42c2dd15f5f4"
      },
      "execution_count": 67,
      "outputs": [
        {
          "output_type": "display_data",
          "data": {
            "text/html": [
              "<html>\n",
              "<head><meta charset=\"utf-8\" /></head>\n",
              "<body>\n",
              "    <div>            <script src=\"https://cdnjs.cloudflare.com/ajax/libs/mathjax/2.7.5/MathJax.js?config=TeX-AMS-MML_SVG\"></script><script type=\"text/javascript\">if (window.MathJax && window.MathJax.Hub && window.MathJax.Hub.Config) {window.MathJax.Hub.Config({SVG: {font: \"STIX-Web\"}});}</script>                <script type=\"text/javascript\">window.PlotlyConfig = {MathJaxConfig: 'local'};</script>\n",
              "        <script charset=\"utf-8\" src=\"https://cdn.plot.ly/plotly-2.24.1.min.js\"></script>                <div id=\"9f94f93a-3d54-4eba-bbb2-791249f062a0\" class=\"plotly-graph-div\" style=\"height:525px; width:100%;\"></div>            <script type=\"text/javascript\">                                    window.PLOTLYENV=window.PLOTLYENV || {};                                    if (document.getElementById(\"9f94f93a-3d54-4eba-bbb2-791249f062a0\")) {                    Plotly.newPlot(                        \"9f94f93a-3d54-4eba-bbb2-791249f062a0\",                        [{\"mode\":\"lines+markers\",\"name\":\"Estonia\",\"x\":[2013,2014,2015,2016,2017,2018,2019,2020,2021,2022],\"y\":[1.167057977452038,1.28689857443561,1.3135318010411314,1.2217271552655657,1.0455827067669172,1.1275557029484577,1.141640728417588,0.9252643091505651,1.0051653886874778,1.154643984771362],\"type\":\"scatter\"},{\"mode\":\"lines+markers\",\"name\":\"Finland\",\"x\":[2013,2014,2015,2016,2017,2018,2019,2020,2021,2022],\"y\":[1.6180421983056075,1.6573464090827803,1.6098587884665423,1.646760268115742,1.6721092703965073,1.7600294694639813,1.6363848610427838,1.699728614758988,1.7038745093032905,1.533841757603079],\"type\":\"scatter\"}],                        {\"template\":{\"data\":{\"histogram2dcontour\":[{\"type\":\"histogram2dcontour\",\"colorbar\":{\"outlinewidth\":0,\"ticks\":\"\"},\"colorscale\":[[0.0,\"#0d0887\"],[0.1111111111111111,\"#46039f\"],[0.2222222222222222,\"#7201a8\"],[0.3333333333333333,\"#9c179e\"],[0.4444444444444444,\"#bd3786\"],[0.5555555555555556,\"#d8576b\"],[0.6666666666666666,\"#ed7953\"],[0.7777777777777778,\"#fb9f3a\"],[0.8888888888888888,\"#fdca26\"],[1.0,\"#f0f921\"]]}],\"choropleth\":[{\"type\":\"choropleth\",\"colorbar\":{\"outlinewidth\":0,\"ticks\":\"\"}}],\"histogram2d\":[{\"type\":\"histogram2d\",\"colorbar\":{\"outlinewidth\":0,\"ticks\":\"\"},\"colorscale\":[[0.0,\"#0d0887\"],[0.1111111111111111,\"#46039f\"],[0.2222222222222222,\"#7201a8\"],[0.3333333333333333,\"#9c179e\"],[0.4444444444444444,\"#bd3786\"],[0.5555555555555556,\"#d8576b\"],[0.6666666666666666,\"#ed7953\"],[0.7777777777777778,\"#fb9f3a\"],[0.8888888888888888,\"#fdca26\"],[1.0,\"#f0f921\"]]}],\"heatmap\":[{\"type\":\"heatmap\",\"colorbar\":{\"outlinewidth\":0,\"ticks\":\"\"},\"colorscale\":[[0.0,\"#0d0887\"],[0.1111111111111111,\"#46039f\"],[0.2222222222222222,\"#7201a8\"],[0.3333333333333333,\"#9c179e\"],[0.4444444444444444,\"#bd3786\"],[0.5555555555555556,\"#d8576b\"],[0.6666666666666666,\"#ed7953\"],[0.7777777777777778,\"#fb9f3a\"],[0.8888888888888888,\"#fdca26\"],[1.0,\"#f0f921\"]]}],\"heatmapgl\":[{\"type\":\"heatmapgl\",\"colorbar\":{\"outlinewidth\":0,\"ticks\":\"\"},\"colorscale\":[[0.0,\"#0d0887\"],[0.1111111111111111,\"#46039f\"],[0.2222222222222222,\"#7201a8\"],[0.3333333333333333,\"#9c179e\"],[0.4444444444444444,\"#bd3786\"],[0.5555555555555556,\"#d8576b\"],[0.6666666666666666,\"#ed7953\"],[0.7777777777777778,\"#fb9f3a\"],[0.8888888888888888,\"#fdca26\"],[1.0,\"#f0f921\"]]}],\"contourcarpet\":[{\"type\":\"contourcarpet\",\"colorbar\":{\"outlinewidth\":0,\"ticks\":\"\"}}],\"contour\":[{\"type\":\"contour\",\"colorbar\":{\"outlinewidth\":0,\"ticks\":\"\"},\"colorscale\":[[0.0,\"#0d0887\"],[0.1111111111111111,\"#46039f\"],[0.2222222222222222,\"#7201a8\"],[0.3333333333333333,\"#9c179e\"],[0.4444444444444444,\"#bd3786\"],[0.5555555555555556,\"#d8576b\"],[0.6666666666666666,\"#ed7953\"],[0.7777777777777778,\"#fb9f3a\"],[0.8888888888888888,\"#fdca26\"],[1.0,\"#f0f921\"]]}],\"surface\":[{\"type\":\"surface\",\"colorbar\":{\"outlinewidth\":0,\"ticks\":\"\"},\"colorscale\":[[0.0,\"#0d0887\"],[0.1111111111111111,\"#46039f\"],[0.2222222222222222,\"#7201a8\"],[0.3333333333333333,\"#9c179e\"],[0.4444444444444444,\"#bd3786\"],[0.5555555555555556,\"#d8576b\"],[0.6666666666666666,\"#ed7953\"],[0.7777777777777778,\"#fb9f3a\"],[0.8888888888888888,\"#fdca26\"],[1.0,\"#f0f921\"]]}],\"mesh3d\":[{\"type\":\"mesh3d\",\"colorbar\":{\"outlinewidth\":0,\"ticks\":\"\"}}],\"scatter\":[{\"fillpattern\":{\"fillmode\":\"overlay\",\"size\":10,\"solidity\":0.2},\"type\":\"scatter\"}],\"parcoords\":[{\"type\":\"parcoords\",\"line\":{\"colorbar\":{\"outlinewidth\":0,\"ticks\":\"\"}}}],\"scatterpolargl\":[{\"type\":\"scatterpolargl\",\"marker\":{\"colorbar\":{\"outlinewidth\":0,\"ticks\":\"\"}}}],\"bar\":[{\"error_x\":{\"color\":\"#2a3f5f\"},\"error_y\":{\"color\":\"#2a3f5f\"},\"marker\":{\"line\":{\"color\":\"#E5ECF6\",\"width\":0.5},\"pattern\":{\"fillmode\":\"overlay\",\"size\":10,\"solidity\":0.2}},\"type\":\"bar\"}],\"scattergeo\":[{\"type\":\"scattergeo\",\"marker\":{\"colorbar\":{\"outlinewidth\":0,\"ticks\":\"\"}}}],\"scatterpolar\":[{\"type\":\"scatterpolar\",\"marker\":{\"colorbar\":{\"outlinewidth\":0,\"ticks\":\"\"}}}],\"histogram\":[{\"marker\":{\"pattern\":{\"fillmode\":\"overlay\",\"size\":10,\"solidity\":0.2}},\"type\":\"histogram\"}],\"scattergl\":[{\"type\":\"scattergl\",\"marker\":{\"colorbar\":{\"outlinewidth\":0,\"ticks\":\"\"}}}],\"scatter3d\":[{\"type\":\"scatter3d\",\"line\":{\"colorbar\":{\"outlinewidth\":0,\"ticks\":\"\"}},\"marker\":{\"colorbar\":{\"outlinewidth\":0,\"ticks\":\"\"}}}],\"scattermapbox\":[{\"type\":\"scattermapbox\",\"marker\":{\"colorbar\":{\"outlinewidth\":0,\"ticks\":\"\"}}}],\"scatterternary\":[{\"type\":\"scatterternary\",\"marker\":{\"colorbar\":{\"outlinewidth\":0,\"ticks\":\"\"}}}],\"scattercarpet\":[{\"type\":\"scattercarpet\",\"marker\":{\"colorbar\":{\"outlinewidth\":0,\"ticks\":\"\"}}}],\"carpet\":[{\"aaxis\":{\"endlinecolor\":\"#2a3f5f\",\"gridcolor\":\"white\",\"linecolor\":\"white\",\"minorgridcolor\":\"white\",\"startlinecolor\":\"#2a3f5f\"},\"baxis\":{\"endlinecolor\":\"#2a3f5f\",\"gridcolor\":\"white\",\"linecolor\":\"white\",\"minorgridcolor\":\"white\",\"startlinecolor\":\"#2a3f5f\"},\"type\":\"carpet\"}],\"table\":[{\"cells\":{\"fill\":{\"color\":\"#EBF0F8\"},\"line\":{\"color\":\"white\"}},\"header\":{\"fill\":{\"color\":\"#C8D4E3\"},\"line\":{\"color\":\"white\"}},\"type\":\"table\"}],\"barpolar\":[{\"marker\":{\"line\":{\"color\":\"#E5ECF6\",\"width\":0.5},\"pattern\":{\"fillmode\":\"overlay\",\"size\":10,\"solidity\":0.2}},\"type\":\"barpolar\"}],\"pie\":[{\"automargin\":true,\"type\":\"pie\"}]},\"layout\":{\"autotypenumbers\":\"strict\",\"colorway\":[\"#636efa\",\"#EF553B\",\"#00cc96\",\"#ab63fa\",\"#FFA15A\",\"#19d3f3\",\"#FF6692\",\"#B6E880\",\"#FF97FF\",\"#FECB52\"],\"font\":{\"color\":\"#2a3f5f\"},\"hovermode\":\"closest\",\"hoverlabel\":{\"align\":\"left\"},\"paper_bgcolor\":\"white\",\"plot_bgcolor\":\"#E5ECF6\",\"polar\":{\"bgcolor\":\"#E5ECF6\",\"angularaxis\":{\"gridcolor\":\"white\",\"linecolor\":\"white\",\"ticks\":\"\"},\"radialaxis\":{\"gridcolor\":\"white\",\"linecolor\":\"white\",\"ticks\":\"\"}},\"ternary\":{\"bgcolor\":\"#E5ECF6\",\"aaxis\":{\"gridcolor\":\"white\",\"linecolor\":\"white\",\"ticks\":\"\"},\"baxis\":{\"gridcolor\":\"white\",\"linecolor\":\"white\",\"ticks\":\"\"},\"caxis\":{\"gridcolor\":\"white\",\"linecolor\":\"white\",\"ticks\":\"\"}},\"coloraxis\":{\"colorbar\":{\"outlinewidth\":0,\"ticks\":\"\"}},\"colorscale\":{\"sequential\":[[0.0,\"#0d0887\"],[0.1111111111111111,\"#46039f\"],[0.2222222222222222,\"#7201a8\"],[0.3333333333333333,\"#9c179e\"],[0.4444444444444444,\"#bd3786\"],[0.5555555555555556,\"#d8576b\"],[0.6666666666666666,\"#ed7953\"],[0.7777777777777778,\"#fb9f3a\"],[0.8888888888888888,\"#fdca26\"],[1.0,\"#f0f921\"]],\"sequentialminus\":[[0.0,\"#0d0887\"],[0.1111111111111111,\"#46039f\"],[0.2222222222222222,\"#7201a8\"],[0.3333333333333333,\"#9c179e\"],[0.4444444444444444,\"#bd3786\"],[0.5555555555555556,\"#d8576b\"],[0.6666666666666666,\"#ed7953\"],[0.7777777777777778,\"#fb9f3a\"],[0.8888888888888888,\"#fdca26\"],[1.0,\"#f0f921\"]],\"diverging\":[[0,\"#8e0152\"],[0.1,\"#c51b7d\"],[0.2,\"#de77ae\"],[0.3,\"#f1b6da\"],[0.4,\"#fde0ef\"],[0.5,\"#f7f7f7\"],[0.6,\"#e6f5d0\"],[0.7,\"#b8e186\"],[0.8,\"#7fbc41\"],[0.9,\"#4d9221\"],[1,\"#276419\"]]},\"xaxis\":{\"gridcolor\":\"white\",\"linecolor\":\"white\",\"ticks\":\"\",\"title\":{\"standoff\":15},\"zerolinecolor\":\"white\",\"automargin\":true,\"zerolinewidth\":2},\"yaxis\":{\"gridcolor\":\"white\",\"linecolor\":\"white\",\"ticks\":\"\",\"title\":{\"standoff\":15},\"zerolinecolor\":\"white\",\"automargin\":true,\"zerolinewidth\":2},\"scene\":{\"xaxis\":{\"backgroundcolor\":\"#E5ECF6\",\"gridcolor\":\"white\",\"linecolor\":\"white\",\"showbackground\":true,\"ticks\":\"\",\"zerolinecolor\":\"white\",\"gridwidth\":2},\"yaxis\":{\"backgroundcolor\":\"#E5ECF6\",\"gridcolor\":\"white\",\"linecolor\":\"white\",\"showbackground\":true,\"ticks\":\"\",\"zerolinecolor\":\"white\",\"gridwidth\":2},\"zaxis\":{\"backgroundcolor\":\"#E5ECF6\",\"gridcolor\":\"white\",\"linecolor\":\"white\",\"showbackground\":true,\"ticks\":\"\",\"zerolinecolor\":\"white\",\"gridwidth\":2}},\"shapedefaults\":{\"line\":{\"color\":\"#2a3f5f\"}},\"annotationdefaults\":{\"arrowcolor\":\"#2a3f5f\",\"arrowhead\":0,\"arrowwidth\":1},\"geo\":{\"bgcolor\":\"white\",\"landcolor\":\"#E5ECF6\",\"subunitcolor\":\"white\",\"showland\":true,\"showlakes\":true,\"lakecolor\":\"white\"},\"title\":{\"x\":0.05},\"mapbox\":{\"style\":\"light\"}}},\"xaxis\":{\"tickmode\":\"array\",\"tickvals\":[2013,2014,2015,2016,2017,2018,2019,2020,2021,2022],\"ticktext\":[2013,2014,2015,2016,2017,2018,2019,2020,2021,2022],\"title\":{\"text\":\"Year\"}},\"title\":{\"text\":\"Forestry sector's contribution to Estonian and Finnish GDP\"},\"yaxis\":{\"title\":{\"text\":\"Percentage of forestry sector in GDP\"}}},                        {\"responsive\": true}                    ).then(function(){\n",
              "                            \n",
              "var gd = document.getElementById('9f94f93a-3d54-4eba-bbb2-791249f062a0');\n",
              "var x = new MutationObserver(function (mutations, observer) {{\n",
              "        var display = window.getComputedStyle(gd).display;\n",
              "        if (!display || display === 'none') {{\n",
              "            console.log([gd, 'removed!']);\n",
              "            Plotly.purge(gd);\n",
              "            observer.disconnect();\n",
              "        }}\n",
              "}});\n",
              "\n",
              "// Listen for the removal of the full notebook cells\n",
              "var notebookContainer = gd.closest('#notebook-container');\n",
              "if (notebookContainer) {{\n",
              "    x.observe(notebookContainer, {childList: true});\n",
              "}}\n",
              "\n",
              "// Listen for the clearing of the current output cell\n",
              "var outputEl = gd.closest('.output');\n",
              "if (outputEl) {{\n",
              "    x.observe(outputEl, {childList: true});\n",
              "}}\n",
              "\n",
              "                        })                };                            </script>        </div>\n",
              "</body>\n",
              "</html>"
            ]
          },
          "metadata": {}
        }
      ]
    }
  ]
}