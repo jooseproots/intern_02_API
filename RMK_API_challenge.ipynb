{
  "cells": [
    {
      "cell_type": "markdown",
      "metadata": {
        "id": "UQqA7L7eGPkG"
      },
      "source": [
        "# API challenge"
      ]
    },
    {
      "cell_type": "code",
      "execution_count": null,
      "metadata": {
        "id": "lH_RBQREhMSm"
      },
      "outputs": [],
      "source": [
        "import requests as rq\n",
        "import plotly.graph_objects as go"
      ]
    },
    {
      "cell_type": "markdown",
      "metadata": {
        "id": "G6g8NT5aGUvg"
      },
      "source": [
        "## Forest sector's contribution to GDP"
      ]
    },
    {
      "cell_type": "markdown",
      "metadata": {
        "id": "TmkMDfMGGp-i"
      },
      "source": [
        "First an analysis on the forestry sector's contribution to Estonian and Finnish s GDP over 10 years is concluded. Yearly GDP is considered, since Finnish databases do not have quarterly data. GDP and the value of the forestry industry of both countries from 2009 to 2022 is requested from national statistics databases."
      ]
    },
    {
      "cell_type": "markdown",
      "metadata": {
        "id": "CzSMMdupbIqE"
      },
      "source": [
        "Request for Estonia's GDP in million euros:"
      ]
    },
    {
      "cell_type": "code",
      "execution_count": 19,
      "metadata": {
        "colab": {
          "base_uri": "https://localhost:8080/"
        },
        "id": "2VBHuUothb9_",
        "outputId": "d4bacccf-0013-4f13-b0de-f19bd8470105"
      },
      "outputs": [
        {
          "name": "stdout",
          "output_type": "stream",
          "text": [
            "[14131.9, 14741.1, 16677.3, 17916.7, 18910.8, 20048.2, 20631.4, 21747.9, 23833.6, 25932.2, 27951, 27430, 31169, 36011.1]\n"
          ]
        }
      ],
      "source": [
        "est_gdp_url = 'https://andmed.stat.ee/api/v1/et/stat/RAA0012'\n",
        "\n",
        "est_gdp_data = {\n",
        "  \"query\": [\n",
        "    {\n",
        "      \"code\": \"Aasta\",\n",
        "      \"selection\": {\n",
        "        \"filter\": \"item\",\n",
        "        \"values\": [\n",
        "          \"2009\",\n",
        "          \"2010\",\n",
        "          \"2011\",\n",
        "          \"2012\",\n",
        "          \"2013\",\n",
        "          \"2014\",\n",
        "          \"2015\",\n",
        "          \"2016\",\n",
        "          \"2017\",\n",
        "          \"2018\",\n",
        "          \"2019\",\n",
        "          \"2020\",\n",
        "          \"2021\",\n",
        "          \"2022\"\n",
        "        ]\n",
        "      }\n",
        "    },\n",
        "    {\n",
        "      \"code\": \"Kvartal\",\n",
        "      \"selection\": {\n",
        "        \"filter\": \"item\",\n",
        "        \"values\": [\n",
        "          \"1\"\n",
        "        ]\n",
        "      }\n",
        "    },\n",
        "    {\n",
        "      \"code\": \"Sesoonne korrigeerimine\",\n",
        "      \"selection\": {\n",
        "        \"filter\": \"item\",\n",
        "        \"values\": [\n",
        "          \"1\"\n",
        "        ]\n",
        "      }\n",
        "    },\n",
        "    {\n",
        "      \"code\": \"Näitaja\",\n",
        "      \"selection\": {\n",
        "        \"filter\": \"item\",\n",
        "        \"values\": [\n",
        "          \"1\"\n",
        "        ]\n",
        "      }\n",
        "    }\n",
        "  ],\n",
        "  \"response\": {\n",
        "    \"format\": \"json-stat2\"\n",
        "  }\n",
        "}\n",
        "\n",
        "est_gdp = rq.post(est_gdp_url, json=est_gdp_data)\n",
        "est_gdp_json = est_gdp.json()\n",
        "\n",
        "print(est_gdp_json['value'])"
      ]
    },
    {
      "cell_type": "markdown",
      "metadata": {
        "id": "xqi5lj0bbNFl"
      },
      "source": [
        "Request for Finland's GDP in million euros:"
      ]
    },
    {
      "cell_type": "code",
      "execution_count": 20,
      "metadata": {
        "colab": {
          "base_uri": "https://localhost:8080/"
        },
        "id": "GC_VhgpK8TD0",
        "outputId": "b89ed399-42ca-4e19-a1fe-b0875fe8fa4b"
      },
      "outputs": [
        {
          "name": "stdout",
          "output_type": "stream",
          "text": [
            "[181747, 188143, 197998, 201037, 204321, 206897, 211385, 217518, 226301, 233462, 239858, 238038, 250664, 268411]\n"
          ]
        }
      ],
      "source": [
        "fin_gdp_url = 'https://pxdata.stat.fi:443/PxWeb/api/v1/en/StatFin/vtp/statfin_vtp_pxt_11sf.px'\n",
        "\n",
        "fin_gdp_data = {\n",
        "  \"query\": [\n",
        "    {\n",
        "      \"code\": \"Taloustoimi\",\n",
        "      \"selection\": {\n",
        "        \"filter\": \"item\",\n",
        "        \"values\": [\n",
        "          \"B1GMH\"\n",
        "        ]\n",
        "      }\n",
        "    },\n",
        "    {\n",
        "      \"code\": \"Vuosi\",\n",
        "      \"selection\": {\n",
        "        \"filter\": \"item\",\n",
        "        \"values\": [\n",
        "          \"2009\",\n",
        "          \"2010\",\n",
        "          \"2011\",\n",
        "          \"2012\",\n",
        "          \"2013\",\n",
        "          \"2014\",\n",
        "          \"2015\",\n",
        "          \"2016\",\n",
        "          \"2017\",\n",
        "          \"2018\",\n",
        "          \"2019\",\n",
        "          \"2020\",\n",
        "          \"2021\",\n",
        "          \"2022\"\n",
        "        ]\n",
        "      }\n",
        "    },\n",
        "    {\n",
        "      \"code\": \"Tiedot\",\n",
        "      \"selection\": {\n",
        "        \"filter\": \"item\",\n",
        "        \"values\": [\n",
        "          \"cp\"\n",
        "        ]\n",
        "      }\n",
        "    }\n",
        "  ],\n",
        "  \"response\": {\n",
        "    \"format\": \"json-stat2\"\n",
        "  }\n",
        "}\n",
        "\n",
        "fin_gdp = rq.post(fin_gdp_url, json=fin_gdp_data)\n",
        "fin_gdp_json = fin_gdp.json()\n",
        "\n",
        "print(fin_gdp_json['value'])"
      ]
    },
    {
      "cell_type": "markdown",
      "metadata": {
        "id": "FlsNCLGubP1A"
      },
      "source": [
        "Request for Estonia's forest sector's value added in million euros:"
      ]
    },
    {
      "cell_type": "code",
      "execution_count": 21,
      "metadata": {
        "colab": {
          "base_uri": "https://localhost:8080/"
        },
        "id": "cs9mEIUzMT7C",
        "outputId": "236affee-6912-4cbc-8cc5-a82fd78a73ef"
      },
      "outputs": [
        {
          "name": "stdout",
          "output_type": "stream",
          "text": [
            "[150.2, 209.7, 269.8, 202.5, 220.7, 258, 271, 265.7, 249.2, 292.4, 319.1, 253.8, 313.3, 415.8]\n"
          ]
        }
      ],
      "source": [
        "est_forest_url = 'https://andmed.stat.ee/api/v1/et/stat/RAA0042'\n",
        "\n",
        "est_forest_data = {\n",
        "  \"query\": [\n",
        "    {\n",
        "      \"code\": \"Tegevusala (EMTAK 2008) /komponent\",\n",
        "      \"selection\": {\n",
        "        \"filter\": \"item\",\n",
        "        \"values\": [\n",
        "          \"3\"\n",
        "        ]\n",
        "      }\n",
        "    },\n",
        "    {\n",
        "      \"code\": \"Aasta\",\n",
        "      \"selection\": {\n",
        "        \"filter\": \"item\",\n",
        "        \"values\": [\n",
        "          \"2009\",\n",
        "          \"2010\",\n",
        "          \"2011\",\n",
        "          \"2012\",\n",
        "          \"2013\",\n",
        "          \"2014\",\n",
        "          \"2015\",\n",
        "          \"2016\",\n",
        "          \"2017\",\n",
        "          \"2018\",\n",
        "          \"2019\",\n",
        "          \"2020\",\n",
        "          \"2021\",\n",
        "          \"2022\"\n",
        "        ]\n",
        "      }\n",
        "    },\n",
        "    {\n",
        "      \"code\": \"Kvartal\",\n",
        "      \"selection\": {\n",
        "        \"filter\": \"item\",\n",
        "        \"values\": [\n",
        "          \"1\"\n",
        "        ]\n",
        "      }\n",
        "    },\n",
        "    {\n",
        "      \"code\": \"Näitaja\",\n",
        "      \"selection\": {\n",
        "        \"filter\": \"item\",\n",
        "        \"values\": [\n",
        "          \"1\"\n",
        "        ]\n",
        "      }\n",
        "    }\n",
        "  ],\n",
        "  \"response\": {\n",
        "    \"format\": \"json-stat2\"\n",
        "  }\n",
        "}\n",
        "\n",
        "est_forest_va = rq.post(est_forest_url, json=est_forest_data)\n",
        "est_forest_va_json = est_forest_va.json()\n",
        "\n",
        "print(est_forest_va_json['value'])"
      ]
    },
    {
      "cell_type": "markdown",
      "metadata": {
        "id": "N--8c_ikbcnf"
      },
      "source": [
        "Request for Finland's forest sector's value added in million euros:"
      ]
    },
    {
      "cell_type": "code",
      "execution_count": 22,
      "metadata": {
        "colab": {
          "base_uri": "https://localhost:8080/"
        },
        "id": "XPmR-1ikPEUe",
        "outputId": "6368f0db-e270-44c4-c13b-9f33ff96d776"
      },
      "outputs": [
        {
          "name": "stdout",
          "output_type": "stream",
          "text": [
            "[2519, 2833, 3058, 3060, 3306, 3429, 3403, 3582, 3784, 4109, 3925, 4046, 4271, 4117]\n"
          ]
        }
      ],
      "source": [
        "fin_forest_url = 'https://pxdata.stat.fi:443/PxWeb/api/v1/en/StatFin/vtp/statfin_vtp_pxt_123h.px'\n",
        "\n",
        "fin_forest_data = {\n",
        "  \"query\": [\n",
        "    {\n",
        "      \"code\": \"Taloustoimi\",\n",
        "      \"selection\": {\n",
        "        \"filter\": \"item\",\n",
        "        \"values\": [\n",
        "          \"B1GPH\"\n",
        "        ]\n",
        "      }\n",
        "    },\n",
        "    {\n",
        "      \"code\": \"Toimiala\",\n",
        "      \"selection\": {\n",
        "        \"filter\": \"item\",\n",
        "        \"values\": [\n",
        "          \"A02\"\n",
        "        ]\n",
        "      }\n",
        "    },\n",
        "    {\n",
        "      \"code\": \"Vuosi\",\n",
        "      \"selection\": {\n",
        "        \"filter\": \"item\",\n",
        "        \"values\": [\n",
        "          \"2009\",\n",
        "          \"2010\",\n",
        "          \"2011\",\n",
        "          \"2012\",\n",
        "          \"2013\",\n",
        "          \"2014\",\n",
        "          \"2015\",\n",
        "          \"2016\",\n",
        "          \"2017\",\n",
        "          \"2018\",\n",
        "          \"2019\",\n",
        "          \"2020\",\n",
        "          \"2021\",\n",
        "          \"2022\"\n",
        "        ]\n",
        "      }\n",
        "    },\n",
        "    {\n",
        "      \"code\": \"Tiedot\",\n",
        "      \"selection\": {\n",
        "        \"filter\": \"item\",\n",
        "        \"values\": [\n",
        "          \"cp\"\n",
        "        ]\n",
        "      }\n",
        "    }\n",
        "  ],\n",
        "  \"response\": {\n",
        "    \"format\": \"json-stat2\"\n",
        "  }\n",
        "}\n",
        "\n",
        "fin_forest_va = rq.post(fin_forest_url, json=fin_forest_data)\n",
        "fin_forest_va_json = fin_forest_va.json()\n",
        "\n",
        "print(fin_forest_va_json['value'])"
      ]
    },
    {
      "cell_type": "markdown",
      "metadata": {
        "id": "tIUe-153bvGP"
      },
      "source": [
        "Calculations for finding the forest sector's contribution to GDP:"
      ]
    },
    {
      "cell_type": "code",
      "execution_count": 23,
      "metadata": {
        "id": "vzSlrVjAPfem"
      },
      "outputs": [],
      "source": [
        "est_forest_to_gdp = [i / j * 100 for i, j in zip(\n",
        "    est_forest_va_json['value'], est_gdp_json['value'])]\n",
        "\n",
        "fin_forest_to_gdp = [i / j * 100 for i, j in zip(\n",
        "    fin_forest_va_json['value'], fin_gdp_json['value'])]"
      ]
    },
    {
      "cell_type": "markdown",
      "metadata": {
        "id": "0iMBZwDLDzDA"
      },
      "source": [
        "The results are plotted using plotly:"
      ]
    },
    {
      "cell_type": "code",
      "execution_count": 24,
      "metadata": {
        "colab": {
          "base_uri": "https://localhost:8080/",
          "height": 542
        },
        "id": "iN9v4ZM-SQcA",
        "outputId": "c9ad3c5b-59d5-41ee-a849-10e38d73e978"
      },
      "outputs": [
        {
          "data": {
            "text/html": [
              "<html>\n",
              "<head><meta charset=\"utf-8\" /></head>\n",
              "<body>\n",
              "    <div>            <script src=\"https://cdnjs.cloudflare.com/ajax/libs/mathjax/2.7.5/MathJax.js?config=TeX-AMS-MML_SVG\"></script><script type=\"text/javascript\">if (window.MathJax && window.MathJax.Hub && window.MathJax.Hub.Config) {window.MathJax.Hub.Config({SVG: {font: \"STIX-Web\"}});}</script>                <script type=\"text/javascript\">window.PlotlyConfig = {MathJaxConfig: 'local'};</script>\n",
              "        <script charset=\"utf-8\" src=\"https://cdn.plot.ly/plotly-2.24.1.min.js\"></script>                <div id=\"a438c854-6f73-4de0-b9b6-bbc5bb357443\" class=\"plotly-graph-div\" style=\"height:525px; width:100%;\"></div>            <script type=\"text/javascript\">                                    window.PLOTLYENV=window.PLOTLYENV || {};                                    if (document.getElementById(\"a438c854-6f73-4de0-b9b6-bbc5bb357443\")) {                    Plotly.newPlot(                        \"a438c854-6f73-4de0-b9b6-bbc5bb357443\",                        [{\"mode\":\"lines+markers\",\"name\":\"Estonia\",\"x\":[2009,2010,2011,2012,2013,2014,2015,2016,2017,2018,2019,2020,2021,2022],\"y\":[1.0628436374443635,1.422553269430368,1.6177678641027027,1.1302304553851994,1.167057977452038,1.28689857443561,1.3135318010411314,1.2217271552655657,1.0455827067669172,1.1275557029484577,1.141640728417588,0.9252643091505651,1.0051653886874778,1.154643984771362],\"type\":\"scatter\"},{\"mode\":\"lines+markers\",\"name\":\"Finland\",\"x\":[2009,2010,2011,2012,2013,2014,2015,2016,2017,2018,2019,2020,2021,2022],\"y\":[1.3859926161092069,1.5057695476313229,1.54446004505096,1.5221078706904698,1.6180421983056075,1.6573464090827803,1.6098587884665423,1.646760268115742,1.6721092703965073,1.7600294694639813,1.6363848610427838,1.699728614758988,1.7038745093032905,1.533841757603079],\"type\":\"scatter\"}],                        {\"template\":{\"data\":{\"histogram2dcontour\":[{\"type\":\"histogram2dcontour\",\"colorbar\":{\"outlinewidth\":0,\"ticks\":\"\"},\"colorscale\":[[0.0,\"#0d0887\"],[0.1111111111111111,\"#46039f\"],[0.2222222222222222,\"#7201a8\"],[0.3333333333333333,\"#9c179e\"],[0.4444444444444444,\"#bd3786\"],[0.5555555555555556,\"#d8576b\"],[0.6666666666666666,\"#ed7953\"],[0.7777777777777778,\"#fb9f3a\"],[0.8888888888888888,\"#fdca26\"],[1.0,\"#f0f921\"]]}],\"choropleth\":[{\"type\":\"choropleth\",\"colorbar\":{\"outlinewidth\":0,\"ticks\":\"\"}}],\"histogram2d\":[{\"type\":\"histogram2d\",\"colorbar\":{\"outlinewidth\":0,\"ticks\":\"\"},\"colorscale\":[[0.0,\"#0d0887\"],[0.1111111111111111,\"#46039f\"],[0.2222222222222222,\"#7201a8\"],[0.3333333333333333,\"#9c179e\"],[0.4444444444444444,\"#bd3786\"],[0.5555555555555556,\"#d8576b\"],[0.6666666666666666,\"#ed7953\"],[0.7777777777777778,\"#fb9f3a\"],[0.8888888888888888,\"#fdca26\"],[1.0,\"#f0f921\"]]}],\"heatmap\":[{\"type\":\"heatmap\",\"colorbar\":{\"outlinewidth\":0,\"ticks\":\"\"},\"colorscale\":[[0.0,\"#0d0887\"],[0.1111111111111111,\"#46039f\"],[0.2222222222222222,\"#7201a8\"],[0.3333333333333333,\"#9c179e\"],[0.4444444444444444,\"#bd3786\"],[0.5555555555555556,\"#d8576b\"],[0.6666666666666666,\"#ed7953\"],[0.7777777777777778,\"#fb9f3a\"],[0.8888888888888888,\"#fdca26\"],[1.0,\"#f0f921\"]]}],\"heatmapgl\":[{\"type\":\"heatmapgl\",\"colorbar\":{\"outlinewidth\":0,\"ticks\":\"\"},\"colorscale\":[[0.0,\"#0d0887\"],[0.1111111111111111,\"#46039f\"],[0.2222222222222222,\"#7201a8\"],[0.3333333333333333,\"#9c179e\"],[0.4444444444444444,\"#bd3786\"],[0.5555555555555556,\"#d8576b\"],[0.6666666666666666,\"#ed7953\"],[0.7777777777777778,\"#fb9f3a\"],[0.8888888888888888,\"#fdca26\"],[1.0,\"#f0f921\"]]}],\"contourcarpet\":[{\"type\":\"contourcarpet\",\"colorbar\":{\"outlinewidth\":0,\"ticks\":\"\"}}],\"contour\":[{\"type\":\"contour\",\"colorbar\":{\"outlinewidth\":0,\"ticks\":\"\"},\"colorscale\":[[0.0,\"#0d0887\"],[0.1111111111111111,\"#46039f\"],[0.2222222222222222,\"#7201a8\"],[0.3333333333333333,\"#9c179e\"],[0.4444444444444444,\"#bd3786\"],[0.5555555555555556,\"#d8576b\"],[0.6666666666666666,\"#ed7953\"],[0.7777777777777778,\"#fb9f3a\"],[0.8888888888888888,\"#fdca26\"],[1.0,\"#f0f921\"]]}],\"surface\":[{\"type\":\"surface\",\"colorbar\":{\"outlinewidth\":0,\"ticks\":\"\"},\"colorscale\":[[0.0,\"#0d0887\"],[0.1111111111111111,\"#46039f\"],[0.2222222222222222,\"#7201a8\"],[0.3333333333333333,\"#9c179e\"],[0.4444444444444444,\"#bd3786\"],[0.5555555555555556,\"#d8576b\"],[0.6666666666666666,\"#ed7953\"],[0.7777777777777778,\"#fb9f3a\"],[0.8888888888888888,\"#fdca26\"],[1.0,\"#f0f921\"]]}],\"mesh3d\":[{\"type\":\"mesh3d\",\"colorbar\":{\"outlinewidth\":0,\"ticks\":\"\"}}],\"scatter\":[{\"fillpattern\":{\"fillmode\":\"overlay\",\"size\":10,\"solidity\":0.2},\"type\":\"scatter\"}],\"parcoords\":[{\"type\":\"parcoords\",\"line\":{\"colorbar\":{\"outlinewidth\":0,\"ticks\":\"\"}}}],\"scatterpolargl\":[{\"type\":\"scatterpolargl\",\"marker\":{\"colorbar\":{\"outlinewidth\":0,\"ticks\":\"\"}}}],\"bar\":[{\"error_x\":{\"color\":\"#2a3f5f\"},\"error_y\":{\"color\":\"#2a3f5f\"},\"marker\":{\"line\":{\"color\":\"#E5ECF6\",\"width\":0.5},\"pattern\":{\"fillmode\":\"overlay\",\"size\":10,\"solidity\":0.2}},\"type\":\"bar\"}],\"scattergeo\":[{\"type\":\"scattergeo\",\"marker\":{\"colorbar\":{\"outlinewidth\":0,\"ticks\":\"\"}}}],\"scatterpolar\":[{\"type\":\"scatterpolar\",\"marker\":{\"colorbar\":{\"outlinewidth\":0,\"ticks\":\"\"}}}],\"histogram\":[{\"marker\":{\"pattern\":{\"fillmode\":\"overlay\",\"size\":10,\"solidity\":0.2}},\"type\":\"histogram\"}],\"scattergl\":[{\"type\":\"scattergl\",\"marker\":{\"colorbar\":{\"outlinewidth\":0,\"ticks\":\"\"}}}],\"scatter3d\":[{\"type\":\"scatter3d\",\"line\":{\"colorbar\":{\"outlinewidth\":0,\"ticks\":\"\"}},\"marker\":{\"colorbar\":{\"outlinewidth\":0,\"ticks\":\"\"}}}],\"scattermapbox\":[{\"type\":\"scattermapbox\",\"marker\":{\"colorbar\":{\"outlinewidth\":0,\"ticks\":\"\"}}}],\"scatterternary\":[{\"type\":\"scatterternary\",\"marker\":{\"colorbar\":{\"outlinewidth\":0,\"ticks\":\"\"}}}],\"scattercarpet\":[{\"type\":\"scattercarpet\",\"marker\":{\"colorbar\":{\"outlinewidth\":0,\"ticks\":\"\"}}}],\"carpet\":[{\"aaxis\":{\"endlinecolor\":\"#2a3f5f\",\"gridcolor\":\"white\",\"linecolor\":\"white\",\"minorgridcolor\":\"white\",\"startlinecolor\":\"#2a3f5f\"},\"baxis\":{\"endlinecolor\":\"#2a3f5f\",\"gridcolor\":\"white\",\"linecolor\":\"white\",\"minorgridcolor\":\"white\",\"startlinecolor\":\"#2a3f5f\"},\"type\":\"carpet\"}],\"table\":[{\"cells\":{\"fill\":{\"color\":\"#EBF0F8\"},\"line\":{\"color\":\"white\"}},\"header\":{\"fill\":{\"color\":\"#C8D4E3\"},\"line\":{\"color\":\"white\"}},\"type\":\"table\"}],\"barpolar\":[{\"marker\":{\"line\":{\"color\":\"#E5ECF6\",\"width\":0.5},\"pattern\":{\"fillmode\":\"overlay\",\"size\":10,\"solidity\":0.2}},\"type\":\"barpolar\"}],\"pie\":[{\"automargin\":true,\"type\":\"pie\"}]},\"layout\":{\"autotypenumbers\":\"strict\",\"colorway\":[\"#636efa\",\"#EF553B\",\"#00cc96\",\"#ab63fa\",\"#FFA15A\",\"#19d3f3\",\"#FF6692\",\"#B6E880\",\"#FF97FF\",\"#FECB52\"],\"font\":{\"color\":\"#2a3f5f\"},\"hovermode\":\"closest\",\"hoverlabel\":{\"align\":\"left\"},\"paper_bgcolor\":\"white\",\"plot_bgcolor\":\"#E5ECF6\",\"polar\":{\"bgcolor\":\"#E5ECF6\",\"angularaxis\":{\"gridcolor\":\"white\",\"linecolor\":\"white\",\"ticks\":\"\"},\"radialaxis\":{\"gridcolor\":\"white\",\"linecolor\":\"white\",\"ticks\":\"\"}},\"ternary\":{\"bgcolor\":\"#E5ECF6\",\"aaxis\":{\"gridcolor\":\"white\",\"linecolor\":\"white\",\"ticks\":\"\"},\"baxis\":{\"gridcolor\":\"white\",\"linecolor\":\"white\",\"ticks\":\"\"},\"caxis\":{\"gridcolor\":\"white\",\"linecolor\":\"white\",\"ticks\":\"\"}},\"coloraxis\":{\"colorbar\":{\"outlinewidth\":0,\"ticks\":\"\"}},\"colorscale\":{\"sequential\":[[0.0,\"#0d0887\"],[0.1111111111111111,\"#46039f\"],[0.2222222222222222,\"#7201a8\"],[0.3333333333333333,\"#9c179e\"],[0.4444444444444444,\"#bd3786\"],[0.5555555555555556,\"#d8576b\"],[0.6666666666666666,\"#ed7953\"],[0.7777777777777778,\"#fb9f3a\"],[0.8888888888888888,\"#fdca26\"],[1.0,\"#f0f921\"]],\"sequentialminus\":[[0.0,\"#0d0887\"],[0.1111111111111111,\"#46039f\"],[0.2222222222222222,\"#7201a8\"],[0.3333333333333333,\"#9c179e\"],[0.4444444444444444,\"#bd3786\"],[0.5555555555555556,\"#d8576b\"],[0.6666666666666666,\"#ed7953\"],[0.7777777777777778,\"#fb9f3a\"],[0.8888888888888888,\"#fdca26\"],[1.0,\"#f0f921\"]],\"diverging\":[[0,\"#8e0152\"],[0.1,\"#c51b7d\"],[0.2,\"#de77ae\"],[0.3,\"#f1b6da\"],[0.4,\"#fde0ef\"],[0.5,\"#f7f7f7\"],[0.6,\"#e6f5d0\"],[0.7,\"#b8e186\"],[0.8,\"#7fbc41\"],[0.9,\"#4d9221\"],[1,\"#276419\"]]},\"xaxis\":{\"gridcolor\":\"white\",\"linecolor\":\"white\",\"ticks\":\"\",\"title\":{\"standoff\":15},\"zerolinecolor\":\"white\",\"automargin\":true,\"zerolinewidth\":2},\"yaxis\":{\"gridcolor\":\"white\",\"linecolor\":\"white\",\"ticks\":\"\",\"title\":{\"standoff\":15},\"zerolinecolor\":\"white\",\"automargin\":true,\"zerolinewidth\":2},\"scene\":{\"xaxis\":{\"backgroundcolor\":\"#E5ECF6\",\"gridcolor\":\"white\",\"linecolor\":\"white\",\"showbackground\":true,\"ticks\":\"\",\"zerolinecolor\":\"white\",\"gridwidth\":2},\"yaxis\":{\"backgroundcolor\":\"#E5ECF6\",\"gridcolor\":\"white\",\"linecolor\":\"white\",\"showbackground\":true,\"ticks\":\"\",\"zerolinecolor\":\"white\",\"gridwidth\":2},\"zaxis\":{\"backgroundcolor\":\"#E5ECF6\",\"gridcolor\":\"white\",\"linecolor\":\"white\",\"showbackground\":true,\"ticks\":\"\",\"zerolinecolor\":\"white\",\"gridwidth\":2}},\"shapedefaults\":{\"line\":{\"color\":\"#2a3f5f\"}},\"annotationdefaults\":{\"arrowcolor\":\"#2a3f5f\",\"arrowhead\":0,\"arrowwidth\":1},\"geo\":{\"bgcolor\":\"white\",\"landcolor\":\"#E5ECF6\",\"subunitcolor\":\"white\",\"showland\":true,\"showlakes\":true,\"lakecolor\":\"white\"},\"title\":{\"x\":0.05},\"mapbox\":{\"style\":\"light\"}}},\"xaxis\":{\"tickmode\":\"array\",\"tickvals\":[2009,2010,2011,2012,2013,2014,2015,2016,2017,2018,2019,2020,2021,2022],\"ticktext\":[2009,2010,2011,2012,2013,2014,2015,2016,2017,2018,2019,2020,2021,2022],\"title\":{\"text\":\"Year\"}},\"title\":{\"text\":\"Forestry sector's contribution to Estonian and Finnish GDP\"},\"yaxis\":{\"title\":{\"text\":\"Percentage of forestry sector in GDP\"}}},                        {\"responsive\": true}                    ).then(function(){\n",
              "                            \n",
              "var gd = document.getElementById('a438c854-6f73-4de0-b9b6-bbc5bb357443');\n",
              "var x = new MutationObserver(function (mutations, observer) {{\n",
              "        var display = window.getComputedStyle(gd).display;\n",
              "        if (!display || display === 'none') {{\n",
              "            console.log([gd, 'removed!']);\n",
              "            Plotly.purge(gd);\n",
              "            observer.disconnect();\n",
              "        }}\n",
              "}});\n",
              "\n",
              "// Listen for the removal of the full notebook cells\n",
              "var notebookContainer = gd.closest('#notebook-container');\n",
              "if (notebookContainer) {{\n",
              "    x.observe(notebookContainer, {childList: true});\n",
              "}}\n",
              "\n",
              "// Listen for the clearing of the current output cell\n",
              "var outputEl = gd.closest('.output');\n",
              "if (outputEl) {{\n",
              "    x.observe(outputEl, {childList: true});\n",
              "}}\n",
              "\n",
              "                        })                };                            </script>        </div>\n",
              "</body>\n",
              "</html>"
            ]
          },
          "metadata": {},
          "output_type": "display_data"
        }
      ],
      "source": [
        "# List of years that are being plotted\n",
        "years = list(range(2009, 2023))\n",
        "\n",
        "# Traces for Estonian and Finnish forestry sector to GDP data\n",
        "trace1 = go.Scatter(x=years,\n",
        "                    y=est_forest_to_gdp,\n",
        "                    mode='lines+markers',\n",
        "                    name='Estonia'\n",
        "                    )\n",
        "\n",
        "trace2 = go.Scatter(x=years,\n",
        "                    y=fin_forest_to_gdp,\n",
        "                    mode='lines+markers',\n",
        "                    name='Finland'\n",
        "                    )\n",
        "\n",
        "# Figure from the two traces\n",
        "fig = go.Figure(data=[trace1, trace2])\n",
        "\n",
        "fig.update_layout(\n",
        "    xaxis=dict(tickmode='array', tickvals=years, ticktext=years),\n",
        "    title=\"Forestry sector's contribution to Estonian and Finnish GDP\",\n",
        "    xaxis_title='Year',\n",
        "    yaxis_title=\"Percentage of forestry sector in GDP\"\n",
        "    )\n",
        "\n",
        "# Showing the figure\n",
        "fig.show()"
      ]
    },
    {
      "cell_type": "markdown",
      "metadata": {},
      "source": [
        "The graph shows that historically Finland's forest sector's contribution to its GDP has been higher than Estonian's with the exeption of 2011."
      ]
    },
    {
      "cell_type": "markdown",
      "metadata": {
        "id": "zHn8PTU7H_4u"
      },
      "source": [
        "## Value added per forest unit area"
      ]
    },
    {
      "cell_type": "markdown",
      "metadata": {
        "id": "70wVcqWp7bul"
      },
      "source": [
        "In order to better evaluate which country's forestry sector is more advanced, value added per forest unit area could be considered instead of forestry sector's contribution to GDP. Data from 2009 to 2022 is analysed. Strictly protected areas of forestry land are excluded from the analysis because they do not contribute to value added."
      ]
    },
    {
      "cell_type": "markdown",
      "metadata": {
        "id": "_WHhf3xk8pKk"
      },
      "source": [
        "Area of forestry land in Estonia in 1000 ha:"
      ]
    },
    {
      "cell_type": "code",
      "execution_count": 17,
      "metadata": {
        "colab": {
          "base_uri": "https://localhost:8080/"
        },
        "id": "I9u_9uHj8xmV",
        "outputId": "00cc3f4a-0bb5-4ce2-f091-e7b08c19e111"
      },
      "outputs": [
        {
          "name": "stdout",
          "output_type": "stream",
          "text": [
            "[2216.8, 2222.4, 2235.3, 2249.7, 2268.4, 2295.3, 2309.9, 2313, 2330.8, 2331, 2332.9, 2325.3, 2325.6, 2325]\n"
          ]
        }
      ],
      "source": [
        "est_forest_area_url = 'https://andmed.stat.ee/api/v1/et/stat/KK51'\n",
        "\n",
        "est_forest_area_data = {\n",
        "  \"query\": [\n",
        "    {\n",
        "      \"code\": \"Näitaja\",\n",
        "      \"selection\": {\n",
        "        \"filter\": \"item\",\n",
        "        \"values\": [\n",
        "          \"1\"\n",
        "        ]\n",
        "      }\n",
        "    },\n",
        "    {\n",
        "      \"code\": \"Aasta\",\n",
        "      \"selection\": {\n",
        "        \"filter\": \"item\",\n",
        "        \"values\": [\n",
        "          \"2009\",\n",
        "          \"2010\",\n",
        "          \"2011\",\n",
        "          \"2012\",\n",
        "          \"2013\",\n",
        "          \"2014\",\n",
        "          \"2015\",\n",
        "          \"2016\",\n",
        "          \"2017\",\n",
        "          \"2018\",\n",
        "          \"2019\",\n",
        "          \"2020\",\n",
        "          \"2021\",\n",
        "          \"2022\"\n",
        "        ]\n",
        "      }\n",
        "    }\n",
        "  ],\n",
        "  \"response\": {\n",
        "    \"format\": \"json-stat2\"\n",
        "  }\n",
        "}\n",
        "\n",
        "est_forest_area = rq.post(est_forest_area_url, json=est_forest_area_data)\n",
        "est_forest_area_json = est_forest_area.json()\n",
        "\n",
        "print(est_forest_area_json['value'])"
      ]
    },
    {
      "cell_type": "markdown",
      "metadata": {
        "id": "cxEJzaAQAX0Q"
      },
      "source": [
        "Area of forestry land in Finland in 1000 ha:"
      ]
    },
    {
      "cell_type": "code",
      "execution_count": 25,
      "metadata": {
        "colab": {
          "base_uri": "https://localhost:8080/"
        },
        "id": "uIwEZ7ETAdmi",
        "outputId": "6be45fbd-c4d5-4bb9-f3ff-5ca2fe675566"
      },
      "outputs": [
        {
          "name": "stdout",
          "output_type": "stream",
          "text": [
            "For 2009-2013, 2014-2018, 2018-2022:\n",
            "[26192, 26246, 26229]\n"
          ]
        }
      ],
      "source": [
        "fin_forest_area_url = 'https://statdb.luke.fi:443/PxWeb/api/v1/en/LUKE/04 Metsa/06 Metsavarat/1.01_Metsatalousmaa.px'\n",
        "\n",
        "fin_forest_area_data = {\n",
        "  \"query\": [\n",
        "    {\n",
        "      \"code\": \"inventointi\",\n",
        "      \"selection\": {\n",
        "        \"filter\": \"item\",\n",
        "        \"values\": [\n",
        "          \"11\",\n",
        "          \"12\",\n",
        "          \"13\"\n",
        "        ]\n",
        "      }\n",
        "    },\n",
        "    {\n",
        "      \"code\": \"maakunta\",\n",
        "      \"selection\": {\n",
        "        \"filter\": \"item\",\n",
        "        \"values\": [\n",
        "          \"1\"\n",
        "        ]\n",
        "      }\n",
        "    },\n",
        "    {\n",
        "      \"code\": \"maaluokka\",\n",
        "      \"selection\": {\n",
        "        \"filter\": \"item\",\n",
        "        \"values\": [\n",
        "          \"Metsätalousmaa - Yhteensä\"\n",
        "        ]\n",
        "      }\n",
        "    }\n",
        "  ],\n",
        "  \"response\": {\n",
        "    \"format\": \"json-stat2\"\n",
        "  }\n",
        "}\n",
        "\n",
        "fin_forest_area = rq.post(fin_forest_area_url, json=fin_forest_area_data)\n",
        "fin_forest_area_json = fin_forest_area.json()\n",
        "\n",
        "print('For 2009-2013, 2014-2018, 2018-2022:')\n",
        "print(fin_forest_area_json['value'])"
      ]
    },
    {
      "cell_type": "markdown",
      "metadata": {
        "id": "NXVwb461C9BD"
      },
      "source": [
        "Percentage of forestry land that is strictly protected in Estonia:"
      ]
    },
    {
      "cell_type": "code",
      "execution_count": 18,
      "metadata": {
        "colab": {
          "base_uri": "https://localhost:8080/"
        },
        "id": "ylfvcEjjDjpJ",
        "outputId": "e4fdbeaf-1058-4f54-9882-1b9fac6838f4"
      },
      "outputs": [
        {
          "name": "stdout",
          "output_type": "stream",
          "text": [
            "[10, 9.6, 10.1, 10.8, 11.4, 11.3, 12.3, 12.9, 13.1, 13.2, 14.1, 14.2, 17.6, 18.1]\n"
          ]
        }
      ],
      "source": [
        "est_forest_protected_url = 'https://andmed.stat.ee/api/v1/et/stat/SN11'\n",
        "\n",
        "est_forest_protected_data = {\n",
        "  \"query\": [\n",
        "    {\n",
        "      \"code\": \"Näitaja\",\n",
        "      \"selection\": {\n",
        "        \"filter\": \"item\",\n",
        "        \"values\": [\n",
        "          \"142\"\n",
        "        ]\n",
        "      }\n",
        "    },\n",
        "    {\n",
        "      \"code\": \"Aasta\",\n",
        "      \"selection\": {\n",
        "        \"filter\": \"item\",\n",
        "        \"values\": [\n",
        "          \"2009\",\n",
        "          \"2010\",\n",
        "          \"2011\",\n",
        "          \"2012\",\n",
        "          \"2013\",\n",
        "          \"2014\",\n",
        "          \"2015\",\n",
        "          \"2016\",\n",
        "          \"2017\",\n",
        "          \"2018\",\n",
        "          \"2019\",\n",
        "          \"2020\",\n",
        "          \"2021\",\n",
        "          \"2022\"\n",
        "        ]\n",
        "      }\n",
        "    }\n",
        "  ],\n",
        "  \"response\": {\n",
        "    \"format\": \"json-stat2\"\n",
        "  }\n",
        "}\n",
        "\n",
        "est_forest_protected = rq.post(est_forest_protected_url, json=est_forest_protected_data)\n",
        "est_forest_protected_json = est_forest_protected.json()\n",
        "\n",
        "print(est_forest_protected_json['value'])"
      ]
    },
    {
      "cell_type": "markdown",
      "metadata": {
        "id": "UiR-TXxXFRKP"
      },
      "source": [
        "Area of strictly protected forests in Finland in 1000 ha:"
      ]
    },
    {
      "cell_type": "code",
      "execution_count": 14,
      "metadata": {
        "colab": {
          "base_uri": "https://localhost:8080/"
        },
        "id": "1z9XVZKRFupY",
        "outputId": "d06d4864-e373-49d5-f5a4-a4d30f55c4d3"
      },
      "outputs": [
        {
          "name": "stdout",
          "output_type": "stream",
          "text": [
            "For corresponding values of Finnish forestry area:\n",
            "[4499.7, 4711, 4783.3]\n"
          ]
        }
      ],
      "source": [
        "fin_forest_protected_url = 'https://statdb.luke.fi:443/PxWeb/api/v1/en/LUKE/04 Metsa/02 Rakenne ja tuotanto/04 Metsien suojelu/01_metsien-suojelu.px'\n",
        "\n",
        "fin_forest_protected_data = {\n",
        "  \"query\": [\n",
        "    {\n",
        "      \"code\": \"suojeluluokka\",\n",
        "      \"selection\": {\n",
        "        \"filter\": \"item\",\n",
        "        \"values\": [\n",
        "          \"1-2YHT\"\n",
        "        ]\n",
        "      }\n",
        "    },\n",
        "    {\n",
        "      \"code\": \"maaluokka\",\n",
        "      \"selection\": {\n",
        "        \"filter\": \"item\",\n",
        "        \"values\": [\n",
        "          \"MAA_YHT\"\n",
        "        ]\n",
        "      }\n",
        "    },\n",
        "    {\n",
        "      \"code\": \"pinta-ala ja osuus\",\n",
        "      \"selection\": {\n",
        "        \"filter\": \"item\",\n",
        "        \"values\": [\n",
        "          \"PA\"\n",
        "        ]\n",
        "      }\n",
        "    }\n",
        "  ],\n",
        "  \"response\": {\n",
        "    \"format\": \"json-stat2\"\n",
        "  }\n",
        "}\n",
        "\n",
        "fin_forest_protected = rq.post(fin_forest_protected_url,\n",
        "                               json=fin_forest_protected_data)\n",
        "fin_forest_protected_json = fin_forest_protected.json()\n",
        "\n",
        "print('For corresponding values of Finnish forestry area:')\n",
        "print(fin_forest_protected_json['value'])"
      ]
    },
    {
      "cell_type": "code",
      "execution_count": null,
      "metadata": {
        "colab": {
          "base_uri": "https://localhost:8080/"
        },
        "id": "MKIU32SfJomA",
        "outputId": "1fbfbb34-337b-4e3f-afd8-cd1d1a6c5c5c"
      },
      "outputs": [],
      "source": [
        "# Lists of unprotected forestry areas\n",
        "usable_forestry_area_est = [i * (100 - j) / 100 for i, j in zip(\n",
        "    est_forest_area_json['value'], est_forest_protected_json['value'])]\n",
        "\n",
        "usable_forestry_area_fin = [i - j for i, j in zip(\n",
        "    fin_forest_area_json['value'], fin_forest_protected_json['value'])]\n",
        "\n",
        "# Expanding the Finnish list so there is a value for every year\n",
        "usable_forestry_area_fin_expanded = (\n",
        "    usable_forestry_area_fin[0:1] * 5 + \n",
        "    usable_forestry_area_fin[1:2] * 5 + \n",
        "    usable_forestry_area_fin[2:3] * 4\n",
        "    )"
      ]
    },
    {
      "cell_type": "code",
      "execution_count": 65,
      "metadata": {
        "id": "HO8RucAxANCG"
      },
      "outputs": [],
      "source": [
        "# Calculating value added per 1 ha of unprotected forestry area\n",
        "value_added_per_area_est = [(i * 1e6) / (j * 1e3) for i, j in zip(\n",
        "    est_forest_va_json['value'], usable_forestry_area_est)]\n",
        "    \n",
        "value_added_per_area_fin = [(i * 1e6) / (j * 1e3) for i, j in zip(\n",
        "    fin_forest_va_json['value'], usable_forestry_area_fin_expanded)]"
      ]
    },
    {
      "cell_type": "markdown",
      "metadata": {
        "id": "slH93R7CEEhU"
      },
      "source": [
        "The results are plotted:"
      ]
    },
    {
      "cell_type": "code",
      "execution_count": 66,
      "metadata": {
        "colab": {
          "base_uri": "https://localhost:8080/",
          "height": 542
        },
        "id": "OQmgklEmEDkv",
        "outputId": "834431ca-cc00-4847-d472-f244618bffcf"
      },
      "outputs": [
        {
          "data": {
            "text/html": [
              "<html>\n",
              "<head><meta charset=\"utf-8\" /></head>\n",
              "<body>\n",
              "    <div>            <script src=\"https://cdnjs.cloudflare.com/ajax/libs/mathjax/2.7.5/MathJax.js?config=TeX-AMS-MML_SVG\"></script><script type=\"text/javascript\">if (window.MathJax && window.MathJax.Hub && window.MathJax.Hub.Config) {window.MathJax.Hub.Config({SVG: {font: \"STIX-Web\"}});}</script>                <script type=\"text/javascript\">window.PlotlyConfig = {MathJaxConfig: 'local'};</script>\n",
              "        <script charset=\"utf-8\" src=\"https://cdn.plot.ly/plotly-2.24.1.min.js\"></script>                <div id=\"93c13c56-adec-4b8e-8176-47348ffd9db1\" class=\"plotly-graph-div\" style=\"height:525px; width:100%;\"></div>            <script type=\"text/javascript\">                                    window.PLOTLYENV=window.PLOTLYENV || {};                                    if (document.getElementById(\"93c13c56-adec-4b8e-8176-47348ffd9db1\")) {                    Plotly.newPlot(                        \"93c13c56-adec-4b8e-8176-47348ffd9db1\",                        [{\"mode\":\"lines+markers\",\"name\":\"Estonia\",\"x\":[2009,2010,2011,2012,2013,2014,2015,2016,2017,2018,2019,2020,2021,2022],\"y\":[75.28369220898993,104.37771172996425,134.2599358946128,100.91031569530647,109.81179045263356,126.72334540201285,133.77548021818535,131.88571757594352,123.03346411481174,144.5158127185777,159.23462785779623,127.21119675061101,163.49262409784217,218.36228287841192],\"type\":\"scatter\"},{\"mode\":\"lines+markers\",\"name\":\"Finland\",\"x\":[2009,2010,2011,2012,2013,2014,2015,2016,2017,2018,2019,2020,2021,2022],\"y\":[116.12415465395556,130.59933709196352,140.97168119563162,141.06387980988646,152.40430936323028,159.22916182957977,158.02182493615047,166.33387508706755,175.713954028326,190.80566519619225,183.02037238234237,188.66252908508466,199.15414278853103,191.97321607594995],\"type\":\"scatter\"}],                        {\"template\":{\"data\":{\"histogram2dcontour\":[{\"type\":\"histogram2dcontour\",\"colorbar\":{\"outlinewidth\":0,\"ticks\":\"\"},\"colorscale\":[[0.0,\"#0d0887\"],[0.1111111111111111,\"#46039f\"],[0.2222222222222222,\"#7201a8\"],[0.3333333333333333,\"#9c179e\"],[0.4444444444444444,\"#bd3786\"],[0.5555555555555556,\"#d8576b\"],[0.6666666666666666,\"#ed7953\"],[0.7777777777777778,\"#fb9f3a\"],[0.8888888888888888,\"#fdca26\"],[1.0,\"#f0f921\"]]}],\"choropleth\":[{\"type\":\"choropleth\",\"colorbar\":{\"outlinewidth\":0,\"ticks\":\"\"}}],\"histogram2d\":[{\"type\":\"histogram2d\",\"colorbar\":{\"outlinewidth\":0,\"ticks\":\"\"},\"colorscale\":[[0.0,\"#0d0887\"],[0.1111111111111111,\"#46039f\"],[0.2222222222222222,\"#7201a8\"],[0.3333333333333333,\"#9c179e\"],[0.4444444444444444,\"#bd3786\"],[0.5555555555555556,\"#d8576b\"],[0.6666666666666666,\"#ed7953\"],[0.7777777777777778,\"#fb9f3a\"],[0.8888888888888888,\"#fdca26\"],[1.0,\"#f0f921\"]]}],\"heatmap\":[{\"type\":\"heatmap\",\"colorbar\":{\"outlinewidth\":0,\"ticks\":\"\"},\"colorscale\":[[0.0,\"#0d0887\"],[0.1111111111111111,\"#46039f\"],[0.2222222222222222,\"#7201a8\"],[0.3333333333333333,\"#9c179e\"],[0.4444444444444444,\"#bd3786\"],[0.5555555555555556,\"#d8576b\"],[0.6666666666666666,\"#ed7953\"],[0.7777777777777778,\"#fb9f3a\"],[0.8888888888888888,\"#fdca26\"],[1.0,\"#f0f921\"]]}],\"heatmapgl\":[{\"type\":\"heatmapgl\",\"colorbar\":{\"outlinewidth\":0,\"ticks\":\"\"},\"colorscale\":[[0.0,\"#0d0887\"],[0.1111111111111111,\"#46039f\"],[0.2222222222222222,\"#7201a8\"],[0.3333333333333333,\"#9c179e\"],[0.4444444444444444,\"#bd3786\"],[0.5555555555555556,\"#d8576b\"],[0.6666666666666666,\"#ed7953\"],[0.7777777777777778,\"#fb9f3a\"],[0.8888888888888888,\"#fdca26\"],[1.0,\"#f0f921\"]]}],\"contourcarpet\":[{\"type\":\"contourcarpet\",\"colorbar\":{\"outlinewidth\":0,\"ticks\":\"\"}}],\"contour\":[{\"type\":\"contour\",\"colorbar\":{\"outlinewidth\":0,\"ticks\":\"\"},\"colorscale\":[[0.0,\"#0d0887\"],[0.1111111111111111,\"#46039f\"],[0.2222222222222222,\"#7201a8\"],[0.3333333333333333,\"#9c179e\"],[0.4444444444444444,\"#bd3786\"],[0.5555555555555556,\"#d8576b\"],[0.6666666666666666,\"#ed7953\"],[0.7777777777777778,\"#fb9f3a\"],[0.8888888888888888,\"#fdca26\"],[1.0,\"#f0f921\"]]}],\"surface\":[{\"type\":\"surface\",\"colorbar\":{\"outlinewidth\":0,\"ticks\":\"\"},\"colorscale\":[[0.0,\"#0d0887\"],[0.1111111111111111,\"#46039f\"],[0.2222222222222222,\"#7201a8\"],[0.3333333333333333,\"#9c179e\"],[0.4444444444444444,\"#bd3786\"],[0.5555555555555556,\"#d8576b\"],[0.6666666666666666,\"#ed7953\"],[0.7777777777777778,\"#fb9f3a\"],[0.8888888888888888,\"#fdca26\"],[1.0,\"#f0f921\"]]}],\"mesh3d\":[{\"type\":\"mesh3d\",\"colorbar\":{\"outlinewidth\":0,\"ticks\":\"\"}}],\"scatter\":[{\"fillpattern\":{\"fillmode\":\"overlay\",\"size\":10,\"solidity\":0.2},\"type\":\"scatter\"}],\"parcoords\":[{\"type\":\"parcoords\",\"line\":{\"colorbar\":{\"outlinewidth\":0,\"ticks\":\"\"}}}],\"scatterpolargl\":[{\"type\":\"scatterpolargl\",\"marker\":{\"colorbar\":{\"outlinewidth\":0,\"ticks\":\"\"}}}],\"bar\":[{\"error_x\":{\"color\":\"#2a3f5f\"},\"error_y\":{\"color\":\"#2a3f5f\"},\"marker\":{\"line\":{\"color\":\"#E5ECF6\",\"width\":0.5},\"pattern\":{\"fillmode\":\"overlay\",\"size\":10,\"solidity\":0.2}},\"type\":\"bar\"}],\"scattergeo\":[{\"type\":\"scattergeo\",\"marker\":{\"colorbar\":{\"outlinewidth\":0,\"ticks\":\"\"}}}],\"scatterpolar\":[{\"type\":\"scatterpolar\",\"marker\":{\"colorbar\":{\"outlinewidth\":0,\"ticks\":\"\"}}}],\"histogram\":[{\"marker\":{\"pattern\":{\"fillmode\":\"overlay\",\"size\":10,\"solidity\":0.2}},\"type\":\"histogram\"}],\"scattergl\":[{\"type\":\"scattergl\",\"marker\":{\"colorbar\":{\"outlinewidth\":0,\"ticks\":\"\"}}}],\"scatter3d\":[{\"type\":\"scatter3d\",\"line\":{\"colorbar\":{\"outlinewidth\":0,\"ticks\":\"\"}},\"marker\":{\"colorbar\":{\"outlinewidth\":0,\"ticks\":\"\"}}}],\"scattermapbox\":[{\"type\":\"scattermapbox\",\"marker\":{\"colorbar\":{\"outlinewidth\":0,\"ticks\":\"\"}}}],\"scatterternary\":[{\"type\":\"scatterternary\",\"marker\":{\"colorbar\":{\"outlinewidth\":0,\"ticks\":\"\"}}}],\"scattercarpet\":[{\"type\":\"scattercarpet\",\"marker\":{\"colorbar\":{\"outlinewidth\":0,\"ticks\":\"\"}}}],\"carpet\":[{\"aaxis\":{\"endlinecolor\":\"#2a3f5f\",\"gridcolor\":\"white\",\"linecolor\":\"white\",\"minorgridcolor\":\"white\",\"startlinecolor\":\"#2a3f5f\"},\"baxis\":{\"endlinecolor\":\"#2a3f5f\",\"gridcolor\":\"white\",\"linecolor\":\"white\",\"minorgridcolor\":\"white\",\"startlinecolor\":\"#2a3f5f\"},\"type\":\"carpet\"}],\"table\":[{\"cells\":{\"fill\":{\"color\":\"#EBF0F8\"},\"line\":{\"color\":\"white\"}},\"header\":{\"fill\":{\"color\":\"#C8D4E3\"},\"line\":{\"color\":\"white\"}},\"type\":\"table\"}],\"barpolar\":[{\"marker\":{\"line\":{\"color\":\"#E5ECF6\",\"width\":0.5},\"pattern\":{\"fillmode\":\"overlay\",\"size\":10,\"solidity\":0.2}},\"type\":\"barpolar\"}],\"pie\":[{\"automargin\":true,\"type\":\"pie\"}]},\"layout\":{\"autotypenumbers\":\"strict\",\"colorway\":[\"#636efa\",\"#EF553B\",\"#00cc96\",\"#ab63fa\",\"#FFA15A\",\"#19d3f3\",\"#FF6692\",\"#B6E880\",\"#FF97FF\",\"#FECB52\"],\"font\":{\"color\":\"#2a3f5f\"},\"hovermode\":\"closest\",\"hoverlabel\":{\"align\":\"left\"},\"paper_bgcolor\":\"white\",\"plot_bgcolor\":\"#E5ECF6\",\"polar\":{\"bgcolor\":\"#E5ECF6\",\"angularaxis\":{\"gridcolor\":\"white\",\"linecolor\":\"white\",\"ticks\":\"\"},\"radialaxis\":{\"gridcolor\":\"white\",\"linecolor\":\"white\",\"ticks\":\"\"}},\"ternary\":{\"bgcolor\":\"#E5ECF6\",\"aaxis\":{\"gridcolor\":\"white\",\"linecolor\":\"white\",\"ticks\":\"\"},\"baxis\":{\"gridcolor\":\"white\",\"linecolor\":\"white\",\"ticks\":\"\"},\"caxis\":{\"gridcolor\":\"white\",\"linecolor\":\"white\",\"ticks\":\"\"}},\"coloraxis\":{\"colorbar\":{\"outlinewidth\":0,\"ticks\":\"\"}},\"colorscale\":{\"sequential\":[[0.0,\"#0d0887\"],[0.1111111111111111,\"#46039f\"],[0.2222222222222222,\"#7201a8\"],[0.3333333333333333,\"#9c179e\"],[0.4444444444444444,\"#bd3786\"],[0.5555555555555556,\"#d8576b\"],[0.6666666666666666,\"#ed7953\"],[0.7777777777777778,\"#fb9f3a\"],[0.8888888888888888,\"#fdca26\"],[1.0,\"#f0f921\"]],\"sequentialminus\":[[0.0,\"#0d0887\"],[0.1111111111111111,\"#46039f\"],[0.2222222222222222,\"#7201a8\"],[0.3333333333333333,\"#9c179e\"],[0.4444444444444444,\"#bd3786\"],[0.5555555555555556,\"#d8576b\"],[0.6666666666666666,\"#ed7953\"],[0.7777777777777778,\"#fb9f3a\"],[0.8888888888888888,\"#fdca26\"],[1.0,\"#f0f921\"]],\"diverging\":[[0,\"#8e0152\"],[0.1,\"#c51b7d\"],[0.2,\"#de77ae\"],[0.3,\"#f1b6da\"],[0.4,\"#fde0ef\"],[0.5,\"#f7f7f7\"],[0.6,\"#e6f5d0\"],[0.7,\"#b8e186\"],[0.8,\"#7fbc41\"],[0.9,\"#4d9221\"],[1,\"#276419\"]]},\"xaxis\":{\"gridcolor\":\"white\",\"linecolor\":\"white\",\"ticks\":\"\",\"title\":{\"standoff\":15},\"zerolinecolor\":\"white\",\"automargin\":true,\"zerolinewidth\":2},\"yaxis\":{\"gridcolor\":\"white\",\"linecolor\":\"white\",\"ticks\":\"\",\"title\":{\"standoff\":15},\"zerolinecolor\":\"white\",\"automargin\":true,\"zerolinewidth\":2},\"scene\":{\"xaxis\":{\"backgroundcolor\":\"#E5ECF6\",\"gridcolor\":\"white\",\"linecolor\":\"white\",\"showbackground\":true,\"ticks\":\"\",\"zerolinecolor\":\"white\",\"gridwidth\":2},\"yaxis\":{\"backgroundcolor\":\"#E5ECF6\",\"gridcolor\":\"white\",\"linecolor\":\"white\",\"showbackground\":true,\"ticks\":\"\",\"zerolinecolor\":\"white\",\"gridwidth\":2},\"zaxis\":{\"backgroundcolor\":\"#E5ECF6\",\"gridcolor\":\"white\",\"linecolor\":\"white\",\"showbackground\":true,\"ticks\":\"\",\"zerolinecolor\":\"white\",\"gridwidth\":2}},\"shapedefaults\":{\"line\":{\"color\":\"#2a3f5f\"}},\"annotationdefaults\":{\"arrowcolor\":\"#2a3f5f\",\"arrowhead\":0,\"arrowwidth\":1},\"geo\":{\"bgcolor\":\"white\",\"landcolor\":\"#E5ECF6\",\"subunitcolor\":\"white\",\"showland\":true,\"showlakes\":true,\"lakecolor\":\"white\"},\"title\":{\"x\":0.05},\"mapbox\":{\"style\":\"light\"}}},\"xaxis\":{\"tickmode\":\"array\",\"tickvals\":[2009,2010,2011,2012,2013,2014,2015,2016,2017,2018,2019,2020,2021,2022],\"ticktext\":[2009,2010,2011,2012,2013,2014,2015,2016,2017,2018,2019,2020,2021,2022],\"title\":{\"text\":\"Year\"}},\"title\":{\"text\":\"Value added per 1 hectare of forestry area (in euros) for Estonia and Finland\"},\"yaxis\":{\"title\":{\"text\":\"Value added per 1 ha of forestry area\"}}},                        {\"responsive\": true}                    ).then(function(){\n",
              "                            \n",
              "var gd = document.getElementById('93c13c56-adec-4b8e-8176-47348ffd9db1');\n",
              "var x = new MutationObserver(function (mutations, observer) {{\n",
              "        var display = window.getComputedStyle(gd).display;\n",
              "        if (!display || display === 'none') {{\n",
              "            console.log([gd, 'removed!']);\n",
              "            Plotly.purge(gd);\n",
              "            observer.disconnect();\n",
              "        }}\n",
              "}});\n",
              "\n",
              "// Listen for the removal of the full notebook cells\n",
              "var notebookContainer = gd.closest('#notebook-container');\n",
              "if (notebookContainer) {{\n",
              "    x.observe(notebookContainer, {childList: true});\n",
              "}}\n",
              "\n",
              "// Listen for the clearing of the current output cell\n",
              "var outputEl = gd.closest('.output');\n",
              "if (outputEl) {{\n",
              "    x.observe(outputEl, {childList: true});\n",
              "}}\n",
              "\n",
              "                        })                };                            </script>        </div>\n",
              "</body>\n",
              "</html>"
            ]
          },
          "metadata": {},
          "output_type": "display_data"
        }
      ],
      "source": [
        "# List of years that are being plotted\n",
        "years = list(range(2009, 2023))\n",
        "\n",
        "# Traces for Estonian and Finnish value added per forest unit area\n",
        "trace_est = go.Scatter(x=years,\n",
        "                       y=value_added_per_area_est,\n",
        "                       mode='lines+markers',\n",
        "                       name='Estonia'\n",
        "                       )\n",
        "\n",
        "trace_fin = go.Scatter(x=years,\n",
        "                       y=value_added_per_area_fin,\n",
        "                       mode='lines+markers',\n",
        "                       name='Finland'\n",
        "                       )\n",
        "\n",
        "# Figure from the two traces\n",
        "fig = go.Figure(data=[trace_est, trace_fin])\n",
        "\n",
        "fig.update_layout(\n",
        "    xaxis=dict(tickmode='array', tickvals=years, ticktext=years),\n",
        "    title=\"Value added per 1 hectare of forestry area (in euros) for Estonia and Finland\",\n",
        "    xaxis_title='Year',\n",
        "    yaxis_title=\"Value added per 1 ha of forestry area\"\n",
        ")\n",
        "# Showing the figure\n",
        "fig.show()"
      ]
    },
    {
      "cell_type": "markdown",
      "metadata": {
        "id": "AH7dFcd6JUED"
      },
      "source": [
        "As can be seen from the graph: Finnish forestry has historically been more advanced than Estonian, but in 2022 Estonia passed Finland in terms of value added per 1 hectare of forestry area, which can be a good indicator of performance in the forestry sector.\n",
        "\n",
        "However there might be disturbances in the results since Estonian forestry area was measured every year opposed to Finland, where the area was measured for a periods of 4-5 years. This means the actual forestry area in 2022 might have differed sligthly from the data used."
      ]
    }
  ],
  "metadata": {
    "colab": {
      "provenance": []
    },
    "kernelspec": {
      "display_name": "Python 3",
      "name": "python3"
    },
    "language_info": {
      "name": "python"
    }
  },
  "nbformat": 4,
  "nbformat_minor": 0
}
