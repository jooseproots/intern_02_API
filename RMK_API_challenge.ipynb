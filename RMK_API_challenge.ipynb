{
  "cells": [
    {
      "cell_type": "markdown",
      "metadata": {
        "id": "UQqA7L7eGPkG"
      },
      "source": [
        "# API challenge"
      ]
    },
    {
      "cell_type": "code",
      "execution_count": 1,
      "metadata": {
        "id": "lH_RBQREhMSm"
      },
      "outputs": [],
      "source": [
        "import requests as rq\n",
        "import plotly.graph_objects as go\n",
        "import urllib.parse"
      ]
    },
    {
      "cell_type": "markdown",
      "metadata": {
        "id": "G6g8NT5aGUvg"
      },
      "source": [
        "## Forest sector's contribution to GDP"
      ]
    },
    {
      "cell_type": "markdown",
      "metadata": {
        "id": "TmkMDfMGGp-i"
      },
      "source": [
        "First an analysis on the forestry sector's contribution to Estonian and Finnish s GDP over 10 years is concluded. Yearly GDP is considered, since Finnish databases do not have quarterly data. GDP and the value of the forestry industry of both countries from 2009 to 2022 is requested from national statistics databases. All monetary values are represented in today's prices."
      ]
    },
    {
      "cell_type": "markdown",
      "metadata": {
        "id": "Kbi2kR7MPxTN"
      },
      "source": [
        "Base URL-s are defined:"
      ]
    },
    {
      "cell_type": "code",
      "execution_count": 2,
      "metadata": {
        "id": "zelsjaz5Pwgz"
      },
      "outputs": [],
      "source": [
        "est_base_url = 'https://andmed.stat.ee/api/v1/et/stat/'\n",
        "fin_base_url = 'https://pxdata.stat.fi:443/PxWeb/api/v1/en/StatFin/'\n",
        "fin_forest_base_url = 'https://statdb.luke.fi:443/PxWeb/api/v1/en/LUKE/'"
      ]
    },
    {
      "cell_type": "markdown",
      "metadata": {
        "id": "4XmCIQ8RWyV2"
      },
      "source": [
        "Classes for abstracting querys:"
      ]
    },
    {
      "cell_type": "code",
      "execution_count": 3,
      "metadata": {
        "id": "EFr0xykoW4pU"
      },
      "outputs": [],
      "source": [
        "class QueryDimension:\n",
        "    def __init__(self, dimension: str, values: list):\n",
        "        self.dimension = dimension\n",
        "        self.values = values\n",
        "    def get(self) -> dict:\n",
        "        query_dimension_prepared = {\n",
        "            \"code\": self.dimension,\n",
        "            \"selection\": {\n",
        "                \"filter\": \"item\",\n",
        "                \"values\": [str(value) for value in self.values]\n",
        "            }\n",
        "        }\n",
        "        return query_dimension_prepared\n",
        "\n",
        "class Query:\n",
        "    formats = {\n",
        "        \"json\": \"json-stat2\"    }\n",
        "    def __init__(self):\n",
        "        self.query_dimensions = []\n",
        "    def add_query_dimension(self, query_dimension: QueryDimension) -> None:\n",
        "        self.query_dimensions += [query_dimension]\n",
        "    def get(self, format: str) -> dict:\n",
        "        if format not in self.formats:\n",
        "            raise ValueError(\"unknown format\")\n",
        "        query_prepared = {\n",
        "            \"query\": [query_dimension.get() for query_dimension in self.query_dimensions],\n",
        "            \"response\": {\n",
        "                \"format\": self.formats[format]\n",
        "            }\n",
        "        }\n",
        "        return query_prepared\n",
        "\n",
        "# Sample run\n",
        "#\n",
        "# import requests as rq\n",
        "#\n",
        "# query_dimensions = [\n",
        "#     QueryDimension(\"Year\", [2021, 2022]),\n",
        "#     QueryDimension(\"Quarter\", [1]),\n",
        "#     ...\n",
        "#     QueryDimension(\"Unit\", [\"km\"])\n",
        "# ]\n",
        "#\n",
        "# query = Query()\n",
        "# _ = [query.add_query_dimension(dimension) for dimension in query_dimensions]\n",
        "#\n",
        "# response = rq.post(url, json=query.get('json'))"
      ]
    },
    {
      "cell_type": "markdown",
      "metadata": {
        "id": "CzSMMdupbIqE"
      },
      "source": [
        "Request for Estonia's GDP in million euros:"
      ]
    },
    {
      "cell_type": "code",
      "execution_count": 40,
      "metadata": {
        "colab": {
          "base_uri": "https://localhost:8080/"
        },
        "id": "2VBHuUothb9_",
        "outputId": "f7533ce0-24e4-4762-a7af-e2954ee5a170"
      },
      "outputs": [
        {
          "name": "stdout",
          "output_type": "stream",
          "text": [
            "[14131.9, 14741.1, 16677.3, 17916.7, 18910.8, 20048.2, 20631.4, 21747.9, 23833.6, 25932.2, 27951, 27430, 31169, 36011.1]\n"
          ]
        }
      ],
      "source": [
        "est_gdp_endpoint = 'RAA0012'\n",
        "\n",
        "est_gdp_url = urllib.parse.urljoin(est_base_url, est_gdp_endpoint)\n",
        "\n",
        "# https://andmed.stat.ee/et/stat/majandus__rahvamajanduse-arvepidamine__sisemajanduse-koguprodukt-(skp)__pehilised-rahvamajanduse-arvepidamise-naitajad/RAA0012\n",
        "\n",
        "year_range = list(range(2009, 2023))\n",
        "\n",
        "query_dimensions = [\n",
        "    QueryDimension(\"Aasta\", year_range),\n",
        "    QueryDimension(\"Kvartal\", [1]), # Value 1 stands for yearly data, use \"I\", \"II\", \"III\", \"IV\" for quarterly values\n",
        "    QueryDimension(\"Sesoonne korrigeerimine\", [1]), # Seasonally and working day unadjusted\n",
        "    QueryDimension(\"Näitaja\", [2]) # GDP chain-linked volume (reference year 2015), million euros, this means all values in 2015 prices\n",
        "]\n",
        "est_gdp_query = Query()\n",
        "_ = [est_gdp_query.add_query_dimension(dimension) for dimension in query_dimensions]\n",
        "\n",
        "est_gdp = rq.post(est_gdp_url, json=est_gdp_query.get('json'))\n",
        "est_gdp.raise_for_status() # Raises errors for bad requests\n",
        "est_gdp_Meur = est_gdp.json()\n",
        "\n",
        "print(est_gdp_Meur['value']) #Meur = Mega euros = million euros"
      ]
    },
    {
      "cell_type": "markdown",
      "metadata": {},
      "source": [
        "The purpose of seasonal adjustment is to remove systematic calendar-related variation associated with the time of the year, that is, seasonal effects.\n",
        "An adjustment for working days takes into account influences arising from the number of working days. This means giving consideration to lengths of months, numbers of weekdays and public holidays. Figures adjusted for working days are published for industries where variation in the number of working days has a significant impact on a time series."
      ]
    },
    {
      "cell_type": "markdown",
      "metadata": {
        "id": "xqi5lj0bbNFl"
      },
      "source": [
        "Request for Finland's GDP in million euros:"
      ]
    },
    {
      "cell_type": "code",
      "execution_count": 32,
      "metadata": {
        "colab": {
          "base_uri": "https://localhost:8080/"
        },
        "id": "GC_VhgpK8TD0",
        "outputId": "85ca9ca7-38c4-4d17-dec6-92d4ea77497e"
      },
      "outputs": [
        {
          "name": "stdout",
          "output_type": "stream",
          "text": [
            "[181747, 188143, 197998, 201037, 204321, 206897, 211385, 217518, 226301, 233462, 239858, 238038, 250664, 267688]\n"
          ]
        }
      ],
      "source": [
        "fin_gdp_endpoint = 'vtp/statfin_vtp_pxt_11sf.px'\n",
        "\n",
        "fin_gdp_url = urllib.parse.urljoin(fin_base_url, fin_gdp_endpoint)\n",
        "\n",
        "# https://pxdata.stat.fi/PxWeb/pxweb/en/StatFin/StatFin__vtp/statfin_vtp_pxt_11sf.px/\n",
        "\n",
        "year_range = list(range(2009, 2023))\n",
        "\n",
        "query_dimensions = [\n",
        "    QueryDimension(\"Taloustoimi\", [\"B1GMH\"]), # GDP at market prices\n",
        "    QueryDimension(\"Vuosi\", year_range),\n",
        "    QueryDimension(\"Tiedot\", [\"vv_hinta_2015\"]), # Volume series, reference year 2015, this means values in 2015 prices\n",
        "]\n",
        "fin_gdp_query = Query()\n",
        "_ = [fin_gdp_query.add_query_dimension(dimension) for dimension in query_dimensions]\n",
        "\n",
        "fin_gdp = rq.post(fin_gdp_url, json=fin_gdp_query.get('json'))\n",
        "fin_gdp.raise_for_status()\n",
        "fin_gdp_Meur = fin_gdp.json()\n",
        "\n",
        "print(fin_gdp_Meur['value'])"
      ]
    },
    {
      "cell_type": "markdown",
      "metadata": {
        "id": "FlsNCLGubP1A"
      },
      "source": [
        "Request for Estonia's forest sector's value added in million euros:"
      ]
    },
    {
      "cell_type": "code",
      "execution_count": 33,
      "metadata": {
        "colab": {
          "base_uri": "https://localhost:8080/"
        },
        "id": "cs9mEIUzMT7C",
        "outputId": "040d2da5-13b5-4fe1-ba8b-93c447e2eaad"
      },
      "outputs": [
        {
          "name": "stdout",
          "output_type": "stream",
          "text": [
            "[150.2, 209.7, 269.8, 202.5, 220.7, 258, 271, 265.7, 249.2, 292.4, 319.1, 253.8, 313.3, 415.8]\n"
          ]
        }
      ],
      "source": [
        "est_forest_endpoint = 'RAA0042'\n",
        "\n",
        "est_forest_url = urllib.parse.urljoin(est_base_url, est_forest_endpoint)\n",
        "\n",
        "# https://andmed.stat.ee/et/stat/majandus__rahvamajanduse-arvepidamine__sisemajanduse-koguprodukt-(skp)__sisemajanduse-koguprodukt-tootmise-meetodil/RAA0042\n",
        "\n",
        "year_range = list(range(2009, 2023))\n",
        "\n",
        "query_dimensions = [\n",
        "    QueryDimension(\"Tegevusala (EMTAK 2008) /komponent\", [3]), # Forestry and logging\n",
        "    QueryDimension(\"Aasta\", year_range),\n",
        "    QueryDimension(\"Kvartal\", [1]), # Value 1 stands for yearly data, use \"I\", \"II\", \"III\", \"IV\" for quarterly values\n",
        "    QueryDimension(\"Näitaja\", [2]) # Chain-linked volume (reference year 2015), million euros\n",
        "]\n",
        "est_forest_va_query = Query()\n",
        "_ = [est_forest_va_query.add_query_dimension(dimension) for dimension in query_dimensions]\n",
        "\n",
        "est_forest_va = rq.post(est_forest_url, json=est_forest_va_query.get('json'))\n",
        "est_forest_va.raise_for_status()\n",
        "est_forest_va_Meur = est_forest_va.json()\n",
        "\n",
        "print(est_forest_va_Meur['value'])"
      ]
    },
    {
      "cell_type": "markdown",
      "metadata": {
        "id": "N--8c_ikbcnf"
      },
      "source": [
        "Request for Finland's forest sector's value added in million euros:"
      ]
    },
    {
      "cell_type": "code",
      "execution_count": 34,
      "metadata": {
        "colab": {
          "base_uri": "https://localhost:8080/"
        },
        "id": "XPmR-1ikPEUe",
        "outputId": "ad640c1f-009c-4314-b052-3c762cd177c5"
      },
      "outputs": [
        {
          "name": "stdout",
          "output_type": "stream",
          "text": [
            "[2519, 2833, 3058, 3060, 3306, 3429, 3403, 3582, 3784, 4109, 3925, 4046, 4271, 4361]\n"
          ]
        }
      ],
      "source": [
        "fin_forest_endpoint = 'vtp/statfin_vtp_pxt_123h.px'\n",
        "\n",
        "fin_forest_url = urllib.parse.urljoin(fin_base_url, fin_forest_endpoint)\n",
        "\n",
        "# https://pxdata.stat.fi/PxWeb/pxweb/en/StatFin/StatFin__vtp/statfin_vtp_pxt_123h.px/\n",
        "\n",
        "year_range = list(range(2009, 2023))\n",
        "\n",
        "query_dimensions = [\n",
        "    QueryDimension(\"Taloustoimi\", [\"B1GPH\"]), # Gross value added at basic prices\n",
        "    QueryDimension(\"Toimiala\", [\"A02\"]), # Forestry and Logging\n",
        "    QueryDimension(\"Vuosi\", year_range),\n",
        "    QueryDimension(\"Tiedot\", [\"vv_hinta_2015\"]), # Volume series, reference year 2015\n",
        "]\n",
        "fin_forest_va_query = Query()\n",
        "_ = [fin_forest_va_query.add_query_dimension(dimension) for dimension in query_dimensions]\n",
        "\n",
        "fin_forest_va = rq.post(fin_forest_url, json=fin_forest_va_query.get('json'))\n",
        "fin_forest_va.raise_for_status()\n",
        "fin_forest_va_Meur = fin_forest_va.json()\n",
        "\n",
        "print(fin_forest_va_Meur['value'])"
      ]
    },
    {
      "cell_type": "markdown",
      "metadata": {
        "id": "tIUe-153bvGP"
      },
      "source": [
        "Calculations for finding the forest sector's contribution to GDP:"
      ]
    },
    {
      "cell_type": "code",
      "execution_count": 8,
      "metadata": {
        "id": "vzSlrVjAPfem"
      },
      "outputs": [],
      "source": [
        "est_forest_to_gdp = [i / j * 100 for i, j in zip(\n",
        "    est_forest_va_Meur['value'], est_gdp_Meur['value'])]\n",
        "\n",
        "fin_forest_to_gdp = [i / j * 100 for i, j in zip(\n",
        "    fin_forest_va_Meur['value'], fin_gdp_Meur['value'])]"
      ]
    },
    {
      "cell_type": "markdown",
      "metadata": {
        "id": "0iMBZwDLDzDA"
      },
      "source": [
        "The results are plotted using plotly:"
      ]
    },
    {
      "cell_type": "code",
      "execution_count": 9,
      "metadata": {
        "colab": {
          "base_uri": "https://localhost:8080/",
          "height": 542
        },
        "id": "iN9v4ZM-SQcA",
        "outputId": "b1f5eeb8-d5f6-4f79-b525-b6dc8d841178"
      },
      "outputs": [
        {
          "data": {
            "text/html": [
              "<html>\n",
              "<head><meta charset=\"utf-8\" /></head>\n",
              "<body>\n",
              "    <div>            <script src=\"https://cdnjs.cloudflare.com/ajax/libs/mathjax/2.7.5/MathJax.js?config=TeX-AMS-MML_SVG\"></script><script type=\"text/javascript\">if (window.MathJax && window.MathJax.Hub && window.MathJax.Hub.Config) {window.MathJax.Hub.Config({SVG: {font: \"STIX-Web\"}});}</script>                <script type=\"text/javascript\">window.PlotlyConfig = {MathJaxConfig: 'local'};</script>\n",
              "        <script charset=\"utf-8\" src=\"https://cdn.plot.ly/plotly-2.24.1.min.js\"></script>                <div id=\"e10e8d04-50e2-4c69-857d-647969595804\" class=\"plotly-graph-div\" style=\"height:525px; width:100%;\"></div>            <script type=\"text/javascript\">                                    window.PLOTLYENV=window.PLOTLYENV || {};                                    if (document.getElementById(\"e10e8d04-50e2-4c69-857d-647969595804\")) {                    Plotly.newPlot(                        \"e10e8d04-50e2-4c69-857d-647969595804\",                        [{\"mode\":\"lines+markers\",\"name\":\"Estonia\",\"x\":[2009,2010,2011,2012,2013,2014,2015,2016,2017,2018,2019,2020,2021,2022],\"y\":[1.0628436374443635,1.422553269430368,1.6177678641027027,1.1302304553851994,1.167057977452038,1.28689857443561,1.3135318010411314,1.2217271552655657,1.0455827067669172,1.1275557029484577,1.141640728417588,0.9252643091505651,1.0051653886874778,1.154643984771362],\"type\":\"scatter\"},{\"mode\":\"lines+markers\",\"name\":\"Finland\",\"x\":[2009,2010,2011,2012,2013,2014,2015,2016,2017,2018,2019,2020,2021,2022],\"y\":[1.3859926161092069,1.5057695476313229,1.54446004505096,1.5221078706904698,1.6180421983056075,1.6573464090827803,1.6098587884665423,1.646760268115742,1.6721092703965073,1.7600294694639813,1.6363848610427838,1.699728614758988,1.7038745093032905,1.6291354113744358],\"type\":\"scatter\"}],                        {\"template\":{\"data\":{\"histogram2dcontour\":[{\"type\":\"histogram2dcontour\",\"colorbar\":{\"outlinewidth\":0,\"ticks\":\"\"},\"colorscale\":[[0.0,\"#0d0887\"],[0.1111111111111111,\"#46039f\"],[0.2222222222222222,\"#7201a8\"],[0.3333333333333333,\"#9c179e\"],[0.4444444444444444,\"#bd3786\"],[0.5555555555555556,\"#d8576b\"],[0.6666666666666666,\"#ed7953\"],[0.7777777777777778,\"#fb9f3a\"],[0.8888888888888888,\"#fdca26\"],[1.0,\"#f0f921\"]]}],\"choropleth\":[{\"type\":\"choropleth\",\"colorbar\":{\"outlinewidth\":0,\"ticks\":\"\"}}],\"histogram2d\":[{\"type\":\"histogram2d\",\"colorbar\":{\"outlinewidth\":0,\"ticks\":\"\"},\"colorscale\":[[0.0,\"#0d0887\"],[0.1111111111111111,\"#46039f\"],[0.2222222222222222,\"#7201a8\"],[0.3333333333333333,\"#9c179e\"],[0.4444444444444444,\"#bd3786\"],[0.5555555555555556,\"#d8576b\"],[0.6666666666666666,\"#ed7953\"],[0.7777777777777778,\"#fb9f3a\"],[0.8888888888888888,\"#fdca26\"],[1.0,\"#f0f921\"]]}],\"heatmap\":[{\"type\":\"heatmap\",\"colorbar\":{\"outlinewidth\":0,\"ticks\":\"\"},\"colorscale\":[[0.0,\"#0d0887\"],[0.1111111111111111,\"#46039f\"],[0.2222222222222222,\"#7201a8\"],[0.3333333333333333,\"#9c179e\"],[0.4444444444444444,\"#bd3786\"],[0.5555555555555556,\"#d8576b\"],[0.6666666666666666,\"#ed7953\"],[0.7777777777777778,\"#fb9f3a\"],[0.8888888888888888,\"#fdca26\"],[1.0,\"#f0f921\"]]}],\"heatmapgl\":[{\"type\":\"heatmapgl\",\"colorbar\":{\"outlinewidth\":0,\"ticks\":\"\"},\"colorscale\":[[0.0,\"#0d0887\"],[0.1111111111111111,\"#46039f\"],[0.2222222222222222,\"#7201a8\"],[0.3333333333333333,\"#9c179e\"],[0.4444444444444444,\"#bd3786\"],[0.5555555555555556,\"#d8576b\"],[0.6666666666666666,\"#ed7953\"],[0.7777777777777778,\"#fb9f3a\"],[0.8888888888888888,\"#fdca26\"],[1.0,\"#f0f921\"]]}],\"contourcarpet\":[{\"type\":\"contourcarpet\",\"colorbar\":{\"outlinewidth\":0,\"ticks\":\"\"}}],\"contour\":[{\"type\":\"contour\",\"colorbar\":{\"outlinewidth\":0,\"ticks\":\"\"},\"colorscale\":[[0.0,\"#0d0887\"],[0.1111111111111111,\"#46039f\"],[0.2222222222222222,\"#7201a8\"],[0.3333333333333333,\"#9c179e\"],[0.4444444444444444,\"#bd3786\"],[0.5555555555555556,\"#d8576b\"],[0.6666666666666666,\"#ed7953\"],[0.7777777777777778,\"#fb9f3a\"],[0.8888888888888888,\"#fdca26\"],[1.0,\"#f0f921\"]]}],\"surface\":[{\"type\":\"surface\",\"colorbar\":{\"outlinewidth\":0,\"ticks\":\"\"},\"colorscale\":[[0.0,\"#0d0887\"],[0.1111111111111111,\"#46039f\"],[0.2222222222222222,\"#7201a8\"],[0.3333333333333333,\"#9c179e\"],[0.4444444444444444,\"#bd3786\"],[0.5555555555555556,\"#d8576b\"],[0.6666666666666666,\"#ed7953\"],[0.7777777777777778,\"#fb9f3a\"],[0.8888888888888888,\"#fdca26\"],[1.0,\"#f0f921\"]]}],\"mesh3d\":[{\"type\":\"mesh3d\",\"colorbar\":{\"outlinewidth\":0,\"ticks\":\"\"}}],\"scatter\":[{\"fillpattern\":{\"fillmode\":\"overlay\",\"size\":10,\"solidity\":0.2},\"type\":\"scatter\"}],\"parcoords\":[{\"type\":\"parcoords\",\"line\":{\"colorbar\":{\"outlinewidth\":0,\"ticks\":\"\"}}}],\"scatterpolargl\":[{\"type\":\"scatterpolargl\",\"marker\":{\"colorbar\":{\"outlinewidth\":0,\"ticks\":\"\"}}}],\"bar\":[{\"error_x\":{\"color\":\"#2a3f5f\"},\"error_y\":{\"color\":\"#2a3f5f\"},\"marker\":{\"line\":{\"color\":\"#E5ECF6\",\"width\":0.5},\"pattern\":{\"fillmode\":\"overlay\",\"size\":10,\"solidity\":0.2}},\"type\":\"bar\"}],\"scattergeo\":[{\"type\":\"scattergeo\",\"marker\":{\"colorbar\":{\"outlinewidth\":0,\"ticks\":\"\"}}}],\"scatterpolar\":[{\"type\":\"scatterpolar\",\"marker\":{\"colorbar\":{\"outlinewidth\":0,\"ticks\":\"\"}}}],\"histogram\":[{\"marker\":{\"pattern\":{\"fillmode\":\"overlay\",\"size\":10,\"solidity\":0.2}},\"type\":\"histogram\"}],\"scattergl\":[{\"type\":\"scattergl\",\"marker\":{\"colorbar\":{\"outlinewidth\":0,\"ticks\":\"\"}}}],\"scatter3d\":[{\"type\":\"scatter3d\",\"line\":{\"colorbar\":{\"outlinewidth\":0,\"ticks\":\"\"}},\"marker\":{\"colorbar\":{\"outlinewidth\":0,\"ticks\":\"\"}}}],\"scattermapbox\":[{\"type\":\"scattermapbox\",\"marker\":{\"colorbar\":{\"outlinewidth\":0,\"ticks\":\"\"}}}],\"scatterternary\":[{\"type\":\"scatterternary\",\"marker\":{\"colorbar\":{\"outlinewidth\":0,\"ticks\":\"\"}}}],\"scattercarpet\":[{\"type\":\"scattercarpet\",\"marker\":{\"colorbar\":{\"outlinewidth\":0,\"ticks\":\"\"}}}],\"carpet\":[{\"aaxis\":{\"endlinecolor\":\"#2a3f5f\",\"gridcolor\":\"white\",\"linecolor\":\"white\",\"minorgridcolor\":\"white\",\"startlinecolor\":\"#2a3f5f\"},\"baxis\":{\"endlinecolor\":\"#2a3f5f\",\"gridcolor\":\"white\",\"linecolor\":\"white\",\"minorgridcolor\":\"white\",\"startlinecolor\":\"#2a3f5f\"},\"type\":\"carpet\"}],\"table\":[{\"cells\":{\"fill\":{\"color\":\"#EBF0F8\"},\"line\":{\"color\":\"white\"}},\"header\":{\"fill\":{\"color\":\"#C8D4E3\"},\"line\":{\"color\":\"white\"}},\"type\":\"table\"}],\"barpolar\":[{\"marker\":{\"line\":{\"color\":\"#E5ECF6\",\"width\":0.5},\"pattern\":{\"fillmode\":\"overlay\",\"size\":10,\"solidity\":0.2}},\"type\":\"barpolar\"}],\"pie\":[{\"automargin\":true,\"type\":\"pie\"}]},\"layout\":{\"autotypenumbers\":\"strict\",\"colorway\":[\"#636efa\",\"#EF553B\",\"#00cc96\",\"#ab63fa\",\"#FFA15A\",\"#19d3f3\",\"#FF6692\",\"#B6E880\",\"#FF97FF\",\"#FECB52\"],\"font\":{\"color\":\"#2a3f5f\"},\"hovermode\":\"closest\",\"hoverlabel\":{\"align\":\"left\"},\"paper_bgcolor\":\"white\",\"plot_bgcolor\":\"#E5ECF6\",\"polar\":{\"bgcolor\":\"#E5ECF6\",\"angularaxis\":{\"gridcolor\":\"white\",\"linecolor\":\"white\",\"ticks\":\"\"},\"radialaxis\":{\"gridcolor\":\"white\",\"linecolor\":\"white\",\"ticks\":\"\"}},\"ternary\":{\"bgcolor\":\"#E5ECF6\",\"aaxis\":{\"gridcolor\":\"white\",\"linecolor\":\"white\",\"ticks\":\"\"},\"baxis\":{\"gridcolor\":\"white\",\"linecolor\":\"white\",\"ticks\":\"\"},\"caxis\":{\"gridcolor\":\"white\",\"linecolor\":\"white\",\"ticks\":\"\"}},\"coloraxis\":{\"colorbar\":{\"outlinewidth\":0,\"ticks\":\"\"}},\"colorscale\":{\"sequential\":[[0.0,\"#0d0887\"],[0.1111111111111111,\"#46039f\"],[0.2222222222222222,\"#7201a8\"],[0.3333333333333333,\"#9c179e\"],[0.4444444444444444,\"#bd3786\"],[0.5555555555555556,\"#d8576b\"],[0.6666666666666666,\"#ed7953\"],[0.7777777777777778,\"#fb9f3a\"],[0.8888888888888888,\"#fdca26\"],[1.0,\"#f0f921\"]],\"sequentialminus\":[[0.0,\"#0d0887\"],[0.1111111111111111,\"#46039f\"],[0.2222222222222222,\"#7201a8\"],[0.3333333333333333,\"#9c179e\"],[0.4444444444444444,\"#bd3786\"],[0.5555555555555556,\"#d8576b\"],[0.6666666666666666,\"#ed7953\"],[0.7777777777777778,\"#fb9f3a\"],[0.8888888888888888,\"#fdca26\"],[1.0,\"#f0f921\"]],\"diverging\":[[0,\"#8e0152\"],[0.1,\"#c51b7d\"],[0.2,\"#de77ae\"],[0.3,\"#f1b6da\"],[0.4,\"#fde0ef\"],[0.5,\"#f7f7f7\"],[0.6,\"#e6f5d0\"],[0.7,\"#b8e186\"],[0.8,\"#7fbc41\"],[0.9,\"#4d9221\"],[1,\"#276419\"]]},\"xaxis\":{\"gridcolor\":\"white\",\"linecolor\":\"white\",\"ticks\":\"\",\"title\":{\"standoff\":15},\"zerolinecolor\":\"white\",\"automargin\":true,\"zerolinewidth\":2},\"yaxis\":{\"gridcolor\":\"white\",\"linecolor\":\"white\",\"ticks\":\"\",\"title\":{\"standoff\":15},\"zerolinecolor\":\"white\",\"automargin\":true,\"zerolinewidth\":2},\"scene\":{\"xaxis\":{\"backgroundcolor\":\"#E5ECF6\",\"gridcolor\":\"white\",\"linecolor\":\"white\",\"showbackground\":true,\"ticks\":\"\",\"zerolinecolor\":\"white\",\"gridwidth\":2},\"yaxis\":{\"backgroundcolor\":\"#E5ECF6\",\"gridcolor\":\"white\",\"linecolor\":\"white\",\"showbackground\":true,\"ticks\":\"\",\"zerolinecolor\":\"white\",\"gridwidth\":2},\"zaxis\":{\"backgroundcolor\":\"#E5ECF6\",\"gridcolor\":\"white\",\"linecolor\":\"white\",\"showbackground\":true,\"ticks\":\"\",\"zerolinecolor\":\"white\",\"gridwidth\":2}},\"shapedefaults\":{\"line\":{\"color\":\"#2a3f5f\"}},\"annotationdefaults\":{\"arrowcolor\":\"#2a3f5f\",\"arrowhead\":0,\"arrowwidth\":1},\"geo\":{\"bgcolor\":\"white\",\"landcolor\":\"#E5ECF6\",\"subunitcolor\":\"white\",\"showland\":true,\"showlakes\":true,\"lakecolor\":\"white\"},\"title\":{\"x\":0.05},\"mapbox\":{\"style\":\"light\"}}},\"xaxis\":{\"tickmode\":\"array\",\"tickvals\":[2009,2010,2011,2012,2013,2014,2015,2016,2017,2018,2019,2020,2021,2022],\"ticktext\":[2009,2010,2011,2012,2013,2014,2015,2016,2017,2018,2019,2020,2021,2022],\"title\":{\"text\":\"Year\"}},\"title\":{\"text\":\"Forestry sector's contribution to Estonian and Finnish GDP, corrected for inflation\"},\"yaxis\":{\"title\":{\"text\":\"Percentage of forestry sector in GDP\"},\"range\":[0,1.8600294694639814]}},                        {\"responsive\": true}                    ).then(function(){\n",
              "                            \n",
              "var gd = document.getElementById('e10e8d04-50e2-4c69-857d-647969595804');\n",
              "var x = new MutationObserver(function (mutations, observer) {{\n",
              "        var display = window.getComputedStyle(gd).display;\n",
              "        if (!display || display === 'none') {{\n",
              "            console.log([gd, 'removed!']);\n",
              "            Plotly.purge(gd);\n",
              "            observer.disconnect();\n",
              "        }}\n",
              "}});\n",
              "\n",
              "// Listen for the removal of the full notebook cells\n",
              "var notebookContainer = gd.closest('#notebook-container');\n",
              "if (notebookContainer) {{\n",
              "    x.observe(notebookContainer, {childList: true});\n",
              "}}\n",
              "\n",
              "// Listen for the clearing of the current output cell\n",
              "var outputEl = gd.closest('.output');\n",
              "if (outputEl) {{\n",
              "    x.observe(outputEl, {childList: true});\n",
              "}}\n",
              "\n",
              "                        })                };                            </script>        </div>\n",
              "</body>\n",
              "</html>"
            ]
          },
          "metadata": {},
          "output_type": "display_data"
        }
      ],
      "source": [
        "# List of years that are being plotted\n",
        "years = list(range(2009, 2023))\n",
        "\n",
        "# Traces for Estonian and Finnish forestry sector to GDP data\n",
        "trace1 = go.Scatter(x=years,\n",
        "                    y=est_forest_to_gdp,\n",
        "                    mode='lines+markers',\n",
        "                    name='Estonia'\n",
        "                    )\n",
        "\n",
        "trace2 = go.Scatter(x=years,\n",
        "                    y=fin_forest_to_gdp,\n",
        "                    mode='lines+markers',\n",
        "                    name='Finland'\n",
        "                    )\n",
        "\n",
        "# Figure from the two traces\n",
        "fig = go.Figure(data=[trace1, trace2])\n",
        "\n",
        "fig.update_layout(\n",
        "    xaxis=dict(tickmode='array', tickvals=years, ticktext=years),\n",
        "    title=\"Forestry sector's contribution to Estonian and Finnish GDP, in 2015 prices\",\n",
        "    xaxis_title='Year',\n",
        "    yaxis_title=\"Percentage of forestry sector in GDP\"\n",
        "    )\n",
        "\n",
        "# Set y-axis to start from 0\n",
        "max_value = max(max(est_forest_to_gdp), max(fin_forest_to_gdp))\n",
        "fig.update_yaxes(range=[0, (max_value + 0.1)])\n",
        "\n",
        "# Showing the figure\n",
        "fig.show()"
      ]
    },
    {
      "cell_type": "markdown",
      "metadata": {
        "id": "zHn8PTU7H_4u"
      },
      "source": [
        "## Value added per forest unit area"
      ]
    },
    {
      "cell_type": "markdown",
      "metadata": {
        "id": "70wVcqWp7bul"
      },
      "source": [
        "In order to better evaluate which country's forestry sector is more advanced, value added per forest unit area could be considered instead of forestry sector's contribution to GDP. Data from 2009 to 2022 is analysed. Strictly protected areas of forestry land are excluded from the analysis because they do not contribute to value added."
      ]
    },
    {
      "cell_type": "markdown",
      "metadata": {
        "id": "_WHhf3xk8pKk"
      },
      "source": [
        "Area of forestry land in Estonia in 1000 ha:"
      ]
    },
    {
      "cell_type": "code",
      "execution_count": 35,
      "metadata": {
        "colab": {
          "base_uri": "https://localhost:8080/"
        },
        "id": "I9u_9uHj8xmV",
        "outputId": "c25bbc26-1daa-4fea-ff3d-e40eb2976a84"
      },
      "outputs": [
        {
          "name": "stdout",
          "output_type": "stream",
          "text": [
            "[2216.8, 2222.4, 2235.3, 2249.7, 2268.4, 2295.3, 2309.9, 2313, 2330.8, 2331, 2332.9, 2325.3, 2325.6, 2325]\n"
          ]
        }
      ],
      "source": [
        "est_forest_area_endpoint = 'KK51'\n",
        "\n",
        "est_forest_area_url = urllib.parse.urljoin(est_base_url, est_forest_area_endpoint)\n",
        "\n",
        "# https://andmed.stat.ee/en/stat/keskkond__loodusvarad-ja-nende-kasutamine__metsavaru/KK51\n",
        "\n",
        "year_range = list(range(2009, 2023))\n",
        "\n",
        "query_dimensions = [\n",
        "    QueryDimension(\"Näitaja\", [1]), # Area of forest and other wooded land, 1000 ha\n",
        "    QueryDimension(\"Aasta\", year_range)\n",
        "]\n",
        "est_forest_area_query = Query()\n",
        "_ = [est_forest_area_query.add_query_dimension(dimension) for dimension in query_dimensions]\n",
        "\n",
        "est_forest_area = rq.post(est_forest_area_url, json=est_forest_area_query.get('json'))\n",
        "est_forest_area.raise_for_status()\n",
        "est_forest_area_Kha = est_forest_area.json()\n",
        "\n",
        "print(est_forest_area_Kha['value']) # Kha = Kilohectare = 1000 hectares"
      ]
    },
    {
      "cell_type": "markdown",
      "metadata": {
        "id": "cxEJzaAQAX0Q"
      },
      "source": [
        "Area of forestry land in Finland in 1000 ha:"
      ]
    },
    {
      "cell_type": "code",
      "execution_count": 36,
      "metadata": {
        "colab": {
          "base_uri": "https://localhost:8080/"
        },
        "id": "uIwEZ7ETAdmi",
        "outputId": "979f480d-3da8-4a9f-ca6d-7f7e5d2ffac2"
      },
      "outputs": [
        {
          "name": "stdout",
          "output_type": "stream",
          "text": [
            "For 2009-2013, 2014-2018, 2018-2022:\n",
            "[26192, 26246, 26229]\n"
          ]
        }
      ],
      "source": [
        "fin_forest_area_endpoint = '04 Metsa/06 Metsavarat/1.01_Metsatalousmaa.px'\n",
        "\n",
        "fin_forest_area_url = urllib.parse.urljoin(fin_forest_base_url, fin_forest_area_endpoint)\n",
        "\n",
        "# https://statdb.luke.fi/PxWeb/pxweb/en/LUKE/LUKE__04%20Metsa__06%20Metsavarat/1.01_Metsatalousmaa.px/\n",
        "\n",
        "query_dimensions = [\n",
        "    QueryDimension(\"inventointi\", [\"11\", \"12\", \"13\"]), # Values for year classes\n",
        "    QueryDimension(\"maakunta\", [\"1\"]), # Region: whole country\n",
        "    QueryDimension(\"maaluokka\", [\"Metsätalousmaa - Yhteensä\"]) # Forestry land: total\n",
        "]\n",
        "fin_forest_area_query = Query()\n",
        "_ = [fin_forest_area_query.add_query_dimension(dimension) for dimension in query_dimensions]\n",
        "\n",
        "fin_forest_area = rq.post(fin_forest_area_url, json=fin_forest_area_query.get('json'))\n",
        "fin_forest_area.raise_for_status()\n",
        "fin_forest_area_Kha = fin_forest_area.json()\n",
        "\n",
        "print('For 2009-2013, 2014-2018, 2018-2022:')\n",
        "print(fin_forest_area_Kha['value'])"
      ]
    },
    {
      "cell_type": "markdown",
      "metadata": {
        "id": "NXVwb461C9BD"
      },
      "source": [
        "Percentage of forestry land that is strictly protected in Estonia:"
      ]
    },
    {
      "cell_type": "code",
      "execution_count": 37,
      "metadata": {
        "colab": {
          "base_uri": "https://localhost:8080/"
        },
        "id": "ylfvcEjjDjpJ",
        "outputId": "7f1663e7-4499-477c-aa20-1dfd4f90e1c6"
      },
      "outputs": [
        {
          "name": "stdout",
          "output_type": "stream",
          "text": [
            "[10, 9.6, 10.1, 10.8, 11.4, 11.3, 12.3, 12.9, 13.1, 13.2, 14.1, 14.2, 17.6, 18.1]\n"
          ]
        }
      ],
      "source": [
        "est_forest_protected_endpoint = 'SN11'\n",
        "\n",
        "est_forest_protected_url = urllib.parse.urljoin(est_base_url, est_forest_protected_endpoint)\n",
        "\n",
        "# https://andmed.stat.ee/en/stat/eri-valdkondade-statistika__saastev-areng/SN11\n",
        "\n",
        "year_range = list(range(2009, 2023))\n",
        "\n",
        "query_dimensions = [\n",
        "    QueryDimension(\"Näitaja\", [\"142\"]), # Share of strictly protected areas in forest land\n",
        "    QueryDimension(\"Aasta\", year_range)\n",
        "]\n",
        "est_forest_protected_query = Query()\n",
        "_ = [est_forest_protected_query.add_query_dimension(dimension) for dimension in query_dimensions]\n",
        "\n",
        "est_forest_protected = rq.post(est_forest_protected_url, json=est_forest_protected_query.get('json'))\n",
        "est_forest_protected.raise_for_status()\n",
        "est_forest_protected_percent = est_forest_protected.json()\n",
        "\n",
        "print(est_forest_protected_percent['value'])"
      ]
    },
    {
      "cell_type": "markdown",
      "metadata": {
        "id": "UiR-TXxXFRKP"
      },
      "source": [
        "Percentage of forestry land that is strictly protected in Finland:"
      ]
    },
    {
      "cell_type": "code",
      "execution_count": 38,
      "metadata": {
        "colab": {
          "base_uri": "https://localhost:8080/"
        },
        "id": "1z9XVZKRFupY",
        "outputId": "b612f407-0531-4b1c-c06b-86abd486f13f"
      },
      "outputs": [
        {
          "name": "stdout",
          "output_type": "stream",
          "text": [
            "For corresponding values of Finnish forestry area:\n",
            "[4499.7, 4711, 4783.3]\n"
          ]
        }
      ],
      "source": [
        "fin_forest_protected_endpoint = '04 Metsa/02 Rakenne ja tuotanto/04 Metsien suojelu/01_metsien-suojelu.px'\n",
        "\n",
        "fin_forest_protected_url = urllib.parse.urljoin(fin_forest_base_url, fin_forest_protected_endpoint)\n",
        "\n",
        "# https://statdb.luke.fi/PxWeb/pxweb/en/LUKE/LUKE__04%20Metsa__02%20Rakenne%20ja%20tuotanto__04%20Metsien%20suojelu/01_metsien-suojelu.px/\n",
        "\n",
        "query_dimensions = [\n",
        "    QueryDimension(\"suojeluluokka\", [\"1-2YHT\"]), # Protection categorty: protected forests, total\n",
        "    QueryDimension(\"maaluokka\", [\"MAA_YHT\"]), # Land class: forestry land, total\n",
        "    QueryDimension(\"pinta-ala ja osuus\", [\"%\"]) # Percentage of total forestry area\n",
        "]\n",
        "fin_forest_protected_query = Query()\n",
        "_ = [fin_forest_protected_query.add_query_dimension(dimension) for dimension in query_dimensions]\n",
        "\n",
        "fin_forest_protected = rq.post(fin_forest_protected_url,\n",
        "                               json=fin_forest_protected_query.get('json'))\n",
        "fin_forest_protected.raise_for_status()\n",
        "fin_forest_protected_percent = fin_forest_protected.json()\n",
        "\n",
        "print('For corresponding values of Finnish forestry area:')\n",
        "print(fin_forest_protected_percent['value'])"
      ]
    },
    {
      "cell_type": "markdown",
      "metadata": {
        "id": "p7yX6-tDucwH"
      },
      "source": [
        "Computations for removing protected areas from total forestry land"
      ]
    },
    {
      "cell_type": "code",
      "execution_count": 14,
      "metadata": {
        "id": "MKIU32SfJomA"
      },
      "outputs": [],
      "source": [
        "# Estonian unprotected forests, protected areas were given as percentages\n",
        "usable_forestry_area_est = [i * (100 - j) / 100 for i, j in zip(\n",
        "    est_forest_area_Kha['value'], est_forest_protected_percent['value'])]\n",
        "\n",
        "# Finnish unprotected forests, protected areas were given as area (1000 ha)\n",
        "usable_forestry_area_fin = [i * (100 - j) / 100 for i, j in zip(\n",
        "    fin_forest_area_Kha['value'], fin_forest_protected_percent['value'])]\n",
        "\n",
        "# Expanding the Finnish list so there is a value for every year\n",
        "usable_forestry_area_fin_expanded = (\n",
        "    usable_forestry_area_fin[0:1] * 5 +\n",
        "    usable_forestry_area_fin[1:2] * 5 +\n",
        "    usable_forestry_area_fin[2:3] * 4\n",
        "    )"
      ]
    },
    {
      "cell_type": "markdown",
      "metadata": {
        "id": "pngEI3LDvAyZ"
      },
      "source": [
        "Calculating value added per 1 ha of unprotected forestry area"
      ]
    },
    {
      "cell_type": "code",
      "execution_count": 15,
      "metadata": {
        "id": "HO8RucAxANCG"
      },
      "outputs": [],
      "source": [
        "value_added_per_area_est = [(i * 1e6) / (j * 1e3) for i, j in zip(\n",
        "    est_forest_va_Meur['value'], usable_forestry_area_est)]\n",
        "\n",
        "value_added_per_area_fin = [(i * 1e6) / (j * 1e3) for i, j in zip(\n",
        "    fin_forest_va_Meur['value'], usable_forestry_area_fin_expanded)]"
      ]
    },
    {
      "cell_type": "markdown",
      "metadata": {
        "id": "slH93R7CEEhU"
      },
      "source": [
        "The results are plotted:"
      ]
    },
    {
      "cell_type": "code",
      "execution_count": 60,
      "metadata": {
        "colab": {
          "base_uri": "https://localhost:8080/",
          "height": 542
        },
        "id": "OQmgklEmEDkv",
        "outputId": "6574d6dd-b2ac-4ddf-9990-56aa3449825c"
      },
      "outputs": [
        {
          "data": {
            "text/html": [
              "<html>\n",
              "<head><meta charset=\"utf-8\" /></head>\n",
              "<body>\n",
              "    <div>            <script src=\"https://cdnjs.cloudflare.com/ajax/libs/mathjax/2.7.5/MathJax.js?config=TeX-AMS-MML_SVG\"></script><script type=\"text/javascript\">if (window.MathJax && window.MathJax.Hub && window.MathJax.Hub.Config) {window.MathJax.Hub.Config({SVG: {font: \"STIX-Web\"}});}</script>                <script type=\"text/javascript\">window.PlotlyConfig = {MathJaxConfig: 'local'};</script>\n",
              "        <script charset=\"utf-8\" src=\"https://cdn.plot.ly/plotly-2.24.1.min.js\"></script>                <div id=\"2ced6c6c-e38b-4b65-bbb9-3e2e253cf4cb\" class=\"plotly-graph-div\" style=\"height:525px; width:100%;\"></div>            <script type=\"text/javascript\">                                    window.PLOTLYENV=window.PLOTLYENV || {};                                    if (document.getElementById(\"2ced6c6c-e38b-4b65-bbb9-3e2e253cf4cb\")) {                    Plotly.newPlot(                        \"2ced6c6c-e38b-4b65-bbb9-3e2e253cf4cb\",                        [{\"mode\":\"lines+markers\",\"name\":\"Estonia\",\"x\":[2009,2010,2011,2012,2013,2014,2015,2016,2017,2018,2019,2020,2021,2022],\"y\":[75.28369220898993,104.37771172996425,134.2599358946128,100.91031569530647,109.81179045263356,126.72334540201285,133.77548021818535,131.88571757594352,123.03346411481174,144.5158127185777,159.23462785779623,127.21119675061101,163.49262409784217,218.36228287841192],\"type\":\"scatter\"},{\"mode\":\"lines+markers\",\"name\":\"Finland\",\"x\":[2009,2010,2011,2012,2013,2014,2015,2016,2017,2018,2019,2020,2021,2022],\"y\":[116.12415465395556,130.59933709196352,140.97168119563162,141.06387980988646,152.40430936323028,159.22916182957977,158.02182493615047,166.33387508706755,175.713954028326,190.80566519619225,183.02037238234237,188.66252908508466,199.15414278853103,203.35078826990957],\"type\":\"scatter\"}],                        {\"template\":{\"data\":{\"histogram2dcontour\":[{\"type\":\"histogram2dcontour\",\"colorbar\":{\"outlinewidth\":0,\"ticks\":\"\"},\"colorscale\":[[0.0,\"#0d0887\"],[0.1111111111111111,\"#46039f\"],[0.2222222222222222,\"#7201a8\"],[0.3333333333333333,\"#9c179e\"],[0.4444444444444444,\"#bd3786\"],[0.5555555555555556,\"#d8576b\"],[0.6666666666666666,\"#ed7953\"],[0.7777777777777778,\"#fb9f3a\"],[0.8888888888888888,\"#fdca26\"],[1.0,\"#f0f921\"]]}],\"choropleth\":[{\"type\":\"choropleth\",\"colorbar\":{\"outlinewidth\":0,\"ticks\":\"\"}}],\"histogram2d\":[{\"type\":\"histogram2d\",\"colorbar\":{\"outlinewidth\":0,\"ticks\":\"\"},\"colorscale\":[[0.0,\"#0d0887\"],[0.1111111111111111,\"#46039f\"],[0.2222222222222222,\"#7201a8\"],[0.3333333333333333,\"#9c179e\"],[0.4444444444444444,\"#bd3786\"],[0.5555555555555556,\"#d8576b\"],[0.6666666666666666,\"#ed7953\"],[0.7777777777777778,\"#fb9f3a\"],[0.8888888888888888,\"#fdca26\"],[1.0,\"#f0f921\"]]}],\"heatmap\":[{\"type\":\"heatmap\",\"colorbar\":{\"outlinewidth\":0,\"ticks\":\"\"},\"colorscale\":[[0.0,\"#0d0887\"],[0.1111111111111111,\"#46039f\"],[0.2222222222222222,\"#7201a8\"],[0.3333333333333333,\"#9c179e\"],[0.4444444444444444,\"#bd3786\"],[0.5555555555555556,\"#d8576b\"],[0.6666666666666666,\"#ed7953\"],[0.7777777777777778,\"#fb9f3a\"],[0.8888888888888888,\"#fdca26\"],[1.0,\"#f0f921\"]]}],\"heatmapgl\":[{\"type\":\"heatmapgl\",\"colorbar\":{\"outlinewidth\":0,\"ticks\":\"\"},\"colorscale\":[[0.0,\"#0d0887\"],[0.1111111111111111,\"#46039f\"],[0.2222222222222222,\"#7201a8\"],[0.3333333333333333,\"#9c179e\"],[0.4444444444444444,\"#bd3786\"],[0.5555555555555556,\"#d8576b\"],[0.6666666666666666,\"#ed7953\"],[0.7777777777777778,\"#fb9f3a\"],[0.8888888888888888,\"#fdca26\"],[1.0,\"#f0f921\"]]}],\"contourcarpet\":[{\"type\":\"contourcarpet\",\"colorbar\":{\"outlinewidth\":0,\"ticks\":\"\"}}],\"contour\":[{\"type\":\"contour\",\"colorbar\":{\"outlinewidth\":0,\"ticks\":\"\"},\"colorscale\":[[0.0,\"#0d0887\"],[0.1111111111111111,\"#46039f\"],[0.2222222222222222,\"#7201a8\"],[0.3333333333333333,\"#9c179e\"],[0.4444444444444444,\"#bd3786\"],[0.5555555555555556,\"#d8576b\"],[0.6666666666666666,\"#ed7953\"],[0.7777777777777778,\"#fb9f3a\"],[0.8888888888888888,\"#fdca26\"],[1.0,\"#f0f921\"]]}],\"surface\":[{\"type\":\"surface\",\"colorbar\":{\"outlinewidth\":0,\"ticks\":\"\"},\"colorscale\":[[0.0,\"#0d0887\"],[0.1111111111111111,\"#46039f\"],[0.2222222222222222,\"#7201a8\"],[0.3333333333333333,\"#9c179e\"],[0.4444444444444444,\"#bd3786\"],[0.5555555555555556,\"#d8576b\"],[0.6666666666666666,\"#ed7953\"],[0.7777777777777778,\"#fb9f3a\"],[0.8888888888888888,\"#fdca26\"],[1.0,\"#f0f921\"]]}],\"mesh3d\":[{\"type\":\"mesh3d\",\"colorbar\":{\"outlinewidth\":0,\"ticks\":\"\"}}],\"scatter\":[{\"fillpattern\":{\"fillmode\":\"overlay\",\"size\":10,\"solidity\":0.2},\"type\":\"scatter\"}],\"parcoords\":[{\"type\":\"parcoords\",\"line\":{\"colorbar\":{\"outlinewidth\":0,\"ticks\":\"\"}}}],\"scatterpolargl\":[{\"type\":\"scatterpolargl\",\"marker\":{\"colorbar\":{\"outlinewidth\":0,\"ticks\":\"\"}}}],\"bar\":[{\"error_x\":{\"color\":\"#2a3f5f\"},\"error_y\":{\"color\":\"#2a3f5f\"},\"marker\":{\"line\":{\"color\":\"#E5ECF6\",\"width\":0.5},\"pattern\":{\"fillmode\":\"overlay\",\"size\":10,\"solidity\":0.2}},\"type\":\"bar\"}],\"scattergeo\":[{\"type\":\"scattergeo\",\"marker\":{\"colorbar\":{\"outlinewidth\":0,\"ticks\":\"\"}}}],\"scatterpolar\":[{\"type\":\"scatterpolar\",\"marker\":{\"colorbar\":{\"outlinewidth\":0,\"ticks\":\"\"}}}],\"histogram\":[{\"marker\":{\"pattern\":{\"fillmode\":\"overlay\",\"size\":10,\"solidity\":0.2}},\"type\":\"histogram\"}],\"scattergl\":[{\"type\":\"scattergl\",\"marker\":{\"colorbar\":{\"outlinewidth\":0,\"ticks\":\"\"}}}],\"scatter3d\":[{\"type\":\"scatter3d\",\"line\":{\"colorbar\":{\"outlinewidth\":0,\"ticks\":\"\"}},\"marker\":{\"colorbar\":{\"outlinewidth\":0,\"ticks\":\"\"}}}],\"scattermapbox\":[{\"type\":\"scattermapbox\",\"marker\":{\"colorbar\":{\"outlinewidth\":0,\"ticks\":\"\"}}}],\"scatterternary\":[{\"type\":\"scatterternary\",\"marker\":{\"colorbar\":{\"outlinewidth\":0,\"ticks\":\"\"}}}],\"scattercarpet\":[{\"type\":\"scattercarpet\",\"marker\":{\"colorbar\":{\"outlinewidth\":0,\"ticks\":\"\"}}}],\"carpet\":[{\"aaxis\":{\"endlinecolor\":\"#2a3f5f\",\"gridcolor\":\"white\",\"linecolor\":\"white\",\"minorgridcolor\":\"white\",\"startlinecolor\":\"#2a3f5f\"},\"baxis\":{\"endlinecolor\":\"#2a3f5f\",\"gridcolor\":\"white\",\"linecolor\":\"white\",\"minorgridcolor\":\"white\",\"startlinecolor\":\"#2a3f5f\"},\"type\":\"carpet\"}],\"table\":[{\"cells\":{\"fill\":{\"color\":\"#EBF0F8\"},\"line\":{\"color\":\"white\"}},\"header\":{\"fill\":{\"color\":\"#C8D4E3\"},\"line\":{\"color\":\"white\"}},\"type\":\"table\"}],\"barpolar\":[{\"marker\":{\"line\":{\"color\":\"#E5ECF6\",\"width\":0.5},\"pattern\":{\"fillmode\":\"overlay\",\"size\":10,\"solidity\":0.2}},\"type\":\"barpolar\"}],\"pie\":[{\"automargin\":true,\"type\":\"pie\"}]},\"layout\":{\"autotypenumbers\":\"strict\",\"colorway\":[\"#636efa\",\"#EF553B\",\"#00cc96\",\"#ab63fa\",\"#FFA15A\",\"#19d3f3\",\"#FF6692\",\"#B6E880\",\"#FF97FF\",\"#FECB52\"],\"font\":{\"color\":\"#2a3f5f\"},\"hovermode\":\"closest\",\"hoverlabel\":{\"align\":\"left\"},\"paper_bgcolor\":\"white\",\"plot_bgcolor\":\"#E5ECF6\",\"polar\":{\"bgcolor\":\"#E5ECF6\",\"angularaxis\":{\"gridcolor\":\"white\",\"linecolor\":\"white\",\"ticks\":\"\"},\"radialaxis\":{\"gridcolor\":\"white\",\"linecolor\":\"white\",\"ticks\":\"\"}},\"ternary\":{\"bgcolor\":\"#E5ECF6\",\"aaxis\":{\"gridcolor\":\"white\",\"linecolor\":\"white\",\"ticks\":\"\"},\"baxis\":{\"gridcolor\":\"white\",\"linecolor\":\"white\",\"ticks\":\"\"},\"caxis\":{\"gridcolor\":\"white\",\"linecolor\":\"white\",\"ticks\":\"\"}},\"coloraxis\":{\"colorbar\":{\"outlinewidth\":0,\"ticks\":\"\"}},\"colorscale\":{\"sequential\":[[0.0,\"#0d0887\"],[0.1111111111111111,\"#46039f\"],[0.2222222222222222,\"#7201a8\"],[0.3333333333333333,\"#9c179e\"],[0.4444444444444444,\"#bd3786\"],[0.5555555555555556,\"#d8576b\"],[0.6666666666666666,\"#ed7953\"],[0.7777777777777778,\"#fb9f3a\"],[0.8888888888888888,\"#fdca26\"],[1.0,\"#f0f921\"]],\"sequentialminus\":[[0.0,\"#0d0887\"],[0.1111111111111111,\"#46039f\"],[0.2222222222222222,\"#7201a8\"],[0.3333333333333333,\"#9c179e\"],[0.4444444444444444,\"#bd3786\"],[0.5555555555555556,\"#d8576b\"],[0.6666666666666666,\"#ed7953\"],[0.7777777777777778,\"#fb9f3a\"],[0.8888888888888888,\"#fdca26\"],[1.0,\"#f0f921\"]],\"diverging\":[[0,\"#8e0152\"],[0.1,\"#c51b7d\"],[0.2,\"#de77ae\"],[0.3,\"#f1b6da\"],[0.4,\"#fde0ef\"],[0.5,\"#f7f7f7\"],[0.6,\"#e6f5d0\"],[0.7,\"#b8e186\"],[0.8,\"#7fbc41\"],[0.9,\"#4d9221\"],[1,\"#276419\"]]},\"xaxis\":{\"gridcolor\":\"white\",\"linecolor\":\"white\",\"ticks\":\"\",\"title\":{\"standoff\":15},\"zerolinecolor\":\"white\",\"automargin\":true,\"zerolinewidth\":2},\"yaxis\":{\"gridcolor\":\"white\",\"linecolor\":\"white\",\"ticks\":\"\",\"title\":{\"standoff\":15},\"zerolinecolor\":\"white\",\"automargin\":true,\"zerolinewidth\":2},\"scene\":{\"xaxis\":{\"backgroundcolor\":\"#E5ECF6\",\"gridcolor\":\"white\",\"linecolor\":\"white\",\"showbackground\":true,\"ticks\":\"\",\"zerolinecolor\":\"white\",\"gridwidth\":2},\"yaxis\":{\"backgroundcolor\":\"#E5ECF6\",\"gridcolor\":\"white\",\"linecolor\":\"white\",\"showbackground\":true,\"ticks\":\"\",\"zerolinecolor\":\"white\",\"gridwidth\":2},\"zaxis\":{\"backgroundcolor\":\"#E5ECF6\",\"gridcolor\":\"white\",\"linecolor\":\"white\",\"showbackground\":true,\"ticks\":\"\",\"zerolinecolor\":\"white\",\"gridwidth\":2}},\"shapedefaults\":{\"line\":{\"color\":\"#2a3f5f\"}},\"annotationdefaults\":{\"arrowcolor\":\"#2a3f5f\",\"arrowhead\":0,\"arrowwidth\":1},\"geo\":{\"bgcolor\":\"white\",\"landcolor\":\"#E5ECF6\",\"subunitcolor\":\"white\",\"showland\":true,\"showlakes\":true,\"lakecolor\":\"white\"},\"title\":{\"x\":0.05},\"mapbox\":{\"style\":\"light\"}}},\"xaxis\":{\"tickmode\":\"array\",\"tickvals\":[2009,2010,2011,2012,2013,2014,2015,2016,2017,2018,2019,2020,2021,2022],\"ticktext\":[2009,2010,2011,2012,2013,2014,2015,2016,2017,2018,2019,2020,2021,2022],\"title\":{\"text\":\"Year\"}},\"title\":{\"text\":\"Value added per 1 hectare of forestry area (in euros, corrected for inflation) for Estonia and Finland\"},\"yaxis\":{\"title\":{\"text\":\"Value added per 1 ha of forestry area\"}}},                        {\"responsive\": true}                    ).then(function(){\n",
              "                            \n",
              "var gd = document.getElementById('2ced6c6c-e38b-4b65-bbb9-3e2e253cf4cb');\n",
              "var x = new MutationObserver(function (mutations, observer) {{\n",
              "        var display = window.getComputedStyle(gd).display;\n",
              "        if (!display || display === 'none') {{\n",
              "            console.log([gd, 'removed!']);\n",
              "            Plotly.purge(gd);\n",
              "            observer.disconnect();\n",
              "        }}\n",
              "}});\n",
              "\n",
              "// Listen for the removal of the full notebook cells\n",
              "var notebookContainer = gd.closest('#notebook-container');\n",
              "if (notebookContainer) {{\n",
              "    x.observe(notebookContainer, {childList: true});\n",
              "}}\n",
              "\n",
              "// Listen for the clearing of the current output cell\n",
              "var outputEl = gd.closest('.output');\n",
              "if (outputEl) {{\n",
              "    x.observe(outputEl, {childList: true});\n",
              "}}\n",
              "\n",
              "                        })                };                            </script>        </div>\n",
              "</body>\n",
              "</html>"
            ]
          },
          "metadata": {},
          "output_type": "display_data"
        }
      ],
      "source": [
        "# List of years that are being plotted\n",
        "years = list(range(2009, 2023))\n",
        "\n",
        "# Traces for Estonian and Finnish value added per forest unit area\n",
        "trace_est = go.Scatter(x=years,\n",
        "                       y=value_added_per_area_est,\n",
        "                       mode='lines+markers',\n",
        "                       name='Estonia'\n",
        "                       )\n",
        "\n",
        "trace_fin = go.Scatter(x=years,\n",
        "                       y=value_added_per_area_fin,\n",
        "                       mode='lines+markers',\n",
        "                       name='Finland'\n",
        "                       )\n",
        "\n",
        "# Figure from the two traces\n",
        "fig = go.Figure(data=[trace_est, trace_fin])\n",
        "\n",
        "fig.update_layout(\n",
        "    xaxis=dict(tickmode='array', tickvals=years, ticktext=years),\n",
        "    title=\"Value added per 1 hectare of forestry area (in euros, 2015 prices) for Estonia and Finland\",\n",
        "    xaxis_title='Year',\n",
        "    yaxis_title=\"Value added per 1 ha of forestry area\"\n",
        ")\n",
        "# Showing the figure\n",
        "fig.show()"
      ]
    },
    {
      "cell_type": "markdown",
      "metadata": {
        "id": "Tve6s6gIs-rm"
      },
      "source": [
        "## Alternative plots with Finnish forestry sector's value added from Luke database"
      ]
    },
    {
      "cell_type": "markdown",
      "metadata": {
        "id": "infvzKhjtSSM"
      },
      "source": [
        "The Finnish National Resources Institute (Luke) also has information on the forestry sector's value added and their results differ from the Statistics Finland database. It might be interesting to also look at the results using the values from the Luke database."
      ]
    },
    {
      "cell_type": "code",
      "execution_count": 46,
      "metadata": {
        "colab": {
          "base_uri": "https://localhost:8080/"
        },
        "id": "4xiZPvz7tdSb",
        "outputId": "980563af-8e19-459c-e60c-d5ad9ed2571c"
      },
      "outputs": [
        {
          "name": "stdout",
          "output_type": "stream",
          "text": [
            "For years 2009 - 2021\n",
            "[2581, 4145, 3680, 3533, 3918, 3828, 4205, 4038, 4563, 5001, 4163, 3519, 5487]\n"
          ]
        }
      ],
      "source": [
        "luke_forest_va_endpoint = '04 Metsa/08 Muut/Metsateollisuus/10.05_Metsateollisuuden_tuotannon_bruttoarvo_ja.px'\n",
        "\n",
        "luke_forest_va_url = urllib.parse.urljoin(fin_forest_base_url, luke_forest_va_endpoint)\n",
        "\n",
        "# https://statdb.luke.fi/PxWeb/pxweb/en/LUKE/LUKE__04%20Metsa__08%20Muut__Metsateollisuus/10.05_Metsateollisuuden_tuotannon_bruttoarvo_ja.px\n",
        "\n",
        "year_range = list(range(2009, 2022))\n",
        "\n",
        "query_dimensions = [\n",
        "    QueryDimension(\"vuosi\", year_range),\n",
        "    QueryDimension(\"arvo\", [\"Tuotannon jalostusarvo\"]), # Added value of production, million euros\n",
        "    QueryDimension(\"teollisuusala\", [\"Metsäteollisuus - Yhteensä\"]) # Forest industries - Total\n",
        "]\n",
        "\n",
        "luke_forest_va_query = Query()\n",
        "_ = [luke_forest_va_query.add_query_dimension(dimension) for dimension in query_dimensions]\n",
        "\n",
        "luke_forest_va = rq.post(luke_forest_va_url, json=luke_forest_va_query.get('json'))\n",
        "luke_forest_va.raise_for_status()\n",
        "luke_forest_va_Meur = luke_forest_va.json()\n",
        "\n",
        "print('For years 2009 - 2021')\n",
        "print(luke_forest_va_Meur['value'])"
      ]
    },
    {
      "cell_type": "code",
      "execution_count": 54,
      "metadata": {
        "id": "bLVyHEsytm2Z"
      },
      "outputs": [],
      "source": [
        "alt_fin_forest_to_gdp = [i / j * 100 for i, j in zip(\n",
        "    luke_forest_va_Meur['value'], fin_gdp_Meur['value'][0:-1])]"
      ]
    },
    {
      "cell_type": "code",
      "execution_count": 57,
      "metadata": {
        "colab": {
          "base_uri": "https://localhost:8080/",
          "height": 542
        },
        "id": "NYA_VSy4u2Eb",
        "outputId": "a322a586-62e0-44cc-afde-eeca20a84736"
      },
      "outputs": [
        {
          "data": {
            "text/html": [
              "<html>\n",
              "<head><meta charset=\"utf-8\" /></head>\n",
              "<body>\n",
              "    <div>            <script src=\"https://cdnjs.cloudflare.com/ajax/libs/mathjax/2.7.5/MathJax.js?config=TeX-AMS-MML_SVG\"></script><script type=\"text/javascript\">if (window.MathJax && window.MathJax.Hub && window.MathJax.Hub.Config) {window.MathJax.Hub.Config({SVG: {font: \"STIX-Web\"}});}</script>                <script type=\"text/javascript\">window.PlotlyConfig = {MathJaxConfig: 'local'};</script>\n",
              "        <script charset=\"utf-8\" src=\"https://cdn.plot.ly/plotly-2.24.1.min.js\"></script>                <div id=\"8125225c-1b94-4284-bdf7-6ae9c29f1737\" class=\"plotly-graph-div\" style=\"height:525px; width:100%;\"></div>            <script type=\"text/javascript\">                                    window.PLOTLYENV=window.PLOTLYENV || {};                                    if (document.getElementById(\"8125225c-1b94-4284-bdf7-6ae9c29f1737\")) {                    Plotly.newPlot(                        \"8125225c-1b94-4284-bdf7-6ae9c29f1737\",                        [{\"mode\":\"lines+markers\",\"name\":\"Estonia\",\"x\":[2009,2010,2011,2012,2013,2014,2015,2016,2017,2018,2019,2020,2021,2022],\"y\":[1.0628436374443635,1.422553269430368,1.6177678641027027,1.1302304553851994,1.167057977452038,1.28689857443561,1.3135318010411314,1.2217271552655657,1.0455827067669172,1.1275557029484577,1.141640728417588,0.9252643091505651,1.0051653886874778,1.154643984771362],\"type\":\"scatter\"},{\"mode\":\"lines+markers\",\"name\":\"Finland\",\"x\":[2009,2010,2011,2012,2013,2014,2015,2016,2017,2018,2019,2020,2021,2022],\"y\":[1.4201059714878375,2.203111463089246,1.8586046323700238,1.7573879435128856,1.917570881113542,1.850195991242019,1.9892613004707052,1.856398091192453,2.016341067869784,2.1421044966632685,1.7356102360563335,1.4783353918281954,2.1889860530431173],\"type\":\"scatter\"}],                        {\"template\":{\"data\":{\"histogram2dcontour\":[{\"type\":\"histogram2dcontour\",\"colorbar\":{\"outlinewidth\":0,\"ticks\":\"\"},\"colorscale\":[[0.0,\"#0d0887\"],[0.1111111111111111,\"#46039f\"],[0.2222222222222222,\"#7201a8\"],[0.3333333333333333,\"#9c179e\"],[0.4444444444444444,\"#bd3786\"],[0.5555555555555556,\"#d8576b\"],[0.6666666666666666,\"#ed7953\"],[0.7777777777777778,\"#fb9f3a\"],[0.8888888888888888,\"#fdca26\"],[1.0,\"#f0f921\"]]}],\"choropleth\":[{\"type\":\"choropleth\",\"colorbar\":{\"outlinewidth\":0,\"ticks\":\"\"}}],\"histogram2d\":[{\"type\":\"histogram2d\",\"colorbar\":{\"outlinewidth\":0,\"ticks\":\"\"},\"colorscale\":[[0.0,\"#0d0887\"],[0.1111111111111111,\"#46039f\"],[0.2222222222222222,\"#7201a8\"],[0.3333333333333333,\"#9c179e\"],[0.4444444444444444,\"#bd3786\"],[0.5555555555555556,\"#d8576b\"],[0.6666666666666666,\"#ed7953\"],[0.7777777777777778,\"#fb9f3a\"],[0.8888888888888888,\"#fdca26\"],[1.0,\"#f0f921\"]]}],\"heatmap\":[{\"type\":\"heatmap\",\"colorbar\":{\"outlinewidth\":0,\"ticks\":\"\"},\"colorscale\":[[0.0,\"#0d0887\"],[0.1111111111111111,\"#46039f\"],[0.2222222222222222,\"#7201a8\"],[0.3333333333333333,\"#9c179e\"],[0.4444444444444444,\"#bd3786\"],[0.5555555555555556,\"#d8576b\"],[0.6666666666666666,\"#ed7953\"],[0.7777777777777778,\"#fb9f3a\"],[0.8888888888888888,\"#fdca26\"],[1.0,\"#f0f921\"]]}],\"heatmapgl\":[{\"type\":\"heatmapgl\",\"colorbar\":{\"outlinewidth\":0,\"ticks\":\"\"},\"colorscale\":[[0.0,\"#0d0887\"],[0.1111111111111111,\"#46039f\"],[0.2222222222222222,\"#7201a8\"],[0.3333333333333333,\"#9c179e\"],[0.4444444444444444,\"#bd3786\"],[0.5555555555555556,\"#d8576b\"],[0.6666666666666666,\"#ed7953\"],[0.7777777777777778,\"#fb9f3a\"],[0.8888888888888888,\"#fdca26\"],[1.0,\"#f0f921\"]]}],\"contourcarpet\":[{\"type\":\"contourcarpet\",\"colorbar\":{\"outlinewidth\":0,\"ticks\":\"\"}}],\"contour\":[{\"type\":\"contour\",\"colorbar\":{\"outlinewidth\":0,\"ticks\":\"\"},\"colorscale\":[[0.0,\"#0d0887\"],[0.1111111111111111,\"#46039f\"],[0.2222222222222222,\"#7201a8\"],[0.3333333333333333,\"#9c179e\"],[0.4444444444444444,\"#bd3786\"],[0.5555555555555556,\"#d8576b\"],[0.6666666666666666,\"#ed7953\"],[0.7777777777777778,\"#fb9f3a\"],[0.8888888888888888,\"#fdca26\"],[1.0,\"#f0f921\"]]}],\"surface\":[{\"type\":\"surface\",\"colorbar\":{\"outlinewidth\":0,\"ticks\":\"\"},\"colorscale\":[[0.0,\"#0d0887\"],[0.1111111111111111,\"#46039f\"],[0.2222222222222222,\"#7201a8\"],[0.3333333333333333,\"#9c179e\"],[0.4444444444444444,\"#bd3786\"],[0.5555555555555556,\"#d8576b\"],[0.6666666666666666,\"#ed7953\"],[0.7777777777777778,\"#fb9f3a\"],[0.8888888888888888,\"#fdca26\"],[1.0,\"#f0f921\"]]}],\"mesh3d\":[{\"type\":\"mesh3d\",\"colorbar\":{\"outlinewidth\":0,\"ticks\":\"\"}}],\"scatter\":[{\"fillpattern\":{\"fillmode\":\"overlay\",\"size\":10,\"solidity\":0.2},\"type\":\"scatter\"}],\"parcoords\":[{\"type\":\"parcoords\",\"line\":{\"colorbar\":{\"outlinewidth\":0,\"ticks\":\"\"}}}],\"scatterpolargl\":[{\"type\":\"scatterpolargl\",\"marker\":{\"colorbar\":{\"outlinewidth\":0,\"ticks\":\"\"}}}],\"bar\":[{\"error_x\":{\"color\":\"#2a3f5f\"},\"error_y\":{\"color\":\"#2a3f5f\"},\"marker\":{\"line\":{\"color\":\"#E5ECF6\",\"width\":0.5},\"pattern\":{\"fillmode\":\"overlay\",\"size\":10,\"solidity\":0.2}},\"type\":\"bar\"}],\"scattergeo\":[{\"type\":\"scattergeo\",\"marker\":{\"colorbar\":{\"outlinewidth\":0,\"ticks\":\"\"}}}],\"scatterpolar\":[{\"type\":\"scatterpolar\",\"marker\":{\"colorbar\":{\"outlinewidth\":0,\"ticks\":\"\"}}}],\"histogram\":[{\"marker\":{\"pattern\":{\"fillmode\":\"overlay\",\"size\":10,\"solidity\":0.2}},\"type\":\"histogram\"}],\"scattergl\":[{\"type\":\"scattergl\",\"marker\":{\"colorbar\":{\"outlinewidth\":0,\"ticks\":\"\"}}}],\"scatter3d\":[{\"type\":\"scatter3d\",\"line\":{\"colorbar\":{\"outlinewidth\":0,\"ticks\":\"\"}},\"marker\":{\"colorbar\":{\"outlinewidth\":0,\"ticks\":\"\"}}}],\"scattermapbox\":[{\"type\":\"scattermapbox\",\"marker\":{\"colorbar\":{\"outlinewidth\":0,\"ticks\":\"\"}}}],\"scatterternary\":[{\"type\":\"scatterternary\",\"marker\":{\"colorbar\":{\"outlinewidth\":0,\"ticks\":\"\"}}}],\"scattercarpet\":[{\"type\":\"scattercarpet\",\"marker\":{\"colorbar\":{\"outlinewidth\":0,\"ticks\":\"\"}}}],\"carpet\":[{\"aaxis\":{\"endlinecolor\":\"#2a3f5f\",\"gridcolor\":\"white\",\"linecolor\":\"white\",\"minorgridcolor\":\"white\",\"startlinecolor\":\"#2a3f5f\"},\"baxis\":{\"endlinecolor\":\"#2a3f5f\",\"gridcolor\":\"white\",\"linecolor\":\"white\",\"minorgridcolor\":\"white\",\"startlinecolor\":\"#2a3f5f\"},\"type\":\"carpet\"}],\"table\":[{\"cells\":{\"fill\":{\"color\":\"#EBF0F8\"},\"line\":{\"color\":\"white\"}},\"header\":{\"fill\":{\"color\":\"#C8D4E3\"},\"line\":{\"color\":\"white\"}},\"type\":\"table\"}],\"barpolar\":[{\"marker\":{\"line\":{\"color\":\"#E5ECF6\",\"width\":0.5},\"pattern\":{\"fillmode\":\"overlay\",\"size\":10,\"solidity\":0.2}},\"type\":\"barpolar\"}],\"pie\":[{\"automargin\":true,\"type\":\"pie\"}]},\"layout\":{\"autotypenumbers\":\"strict\",\"colorway\":[\"#636efa\",\"#EF553B\",\"#00cc96\",\"#ab63fa\",\"#FFA15A\",\"#19d3f3\",\"#FF6692\",\"#B6E880\",\"#FF97FF\",\"#FECB52\"],\"font\":{\"color\":\"#2a3f5f\"},\"hovermode\":\"closest\",\"hoverlabel\":{\"align\":\"left\"},\"paper_bgcolor\":\"white\",\"plot_bgcolor\":\"#E5ECF6\",\"polar\":{\"bgcolor\":\"#E5ECF6\",\"angularaxis\":{\"gridcolor\":\"white\",\"linecolor\":\"white\",\"ticks\":\"\"},\"radialaxis\":{\"gridcolor\":\"white\",\"linecolor\":\"white\",\"ticks\":\"\"}},\"ternary\":{\"bgcolor\":\"#E5ECF6\",\"aaxis\":{\"gridcolor\":\"white\",\"linecolor\":\"white\",\"ticks\":\"\"},\"baxis\":{\"gridcolor\":\"white\",\"linecolor\":\"white\",\"ticks\":\"\"},\"caxis\":{\"gridcolor\":\"white\",\"linecolor\":\"white\",\"ticks\":\"\"}},\"coloraxis\":{\"colorbar\":{\"outlinewidth\":0,\"ticks\":\"\"}},\"colorscale\":{\"sequential\":[[0.0,\"#0d0887\"],[0.1111111111111111,\"#46039f\"],[0.2222222222222222,\"#7201a8\"],[0.3333333333333333,\"#9c179e\"],[0.4444444444444444,\"#bd3786\"],[0.5555555555555556,\"#d8576b\"],[0.6666666666666666,\"#ed7953\"],[0.7777777777777778,\"#fb9f3a\"],[0.8888888888888888,\"#fdca26\"],[1.0,\"#f0f921\"]],\"sequentialminus\":[[0.0,\"#0d0887\"],[0.1111111111111111,\"#46039f\"],[0.2222222222222222,\"#7201a8\"],[0.3333333333333333,\"#9c179e\"],[0.4444444444444444,\"#bd3786\"],[0.5555555555555556,\"#d8576b\"],[0.6666666666666666,\"#ed7953\"],[0.7777777777777778,\"#fb9f3a\"],[0.8888888888888888,\"#fdca26\"],[1.0,\"#f0f921\"]],\"diverging\":[[0,\"#8e0152\"],[0.1,\"#c51b7d\"],[0.2,\"#de77ae\"],[0.3,\"#f1b6da\"],[0.4,\"#fde0ef\"],[0.5,\"#f7f7f7\"],[0.6,\"#e6f5d0\"],[0.7,\"#b8e186\"],[0.8,\"#7fbc41\"],[0.9,\"#4d9221\"],[1,\"#276419\"]]},\"xaxis\":{\"gridcolor\":\"white\",\"linecolor\":\"white\",\"ticks\":\"\",\"title\":{\"standoff\":15},\"zerolinecolor\":\"white\",\"automargin\":true,\"zerolinewidth\":2},\"yaxis\":{\"gridcolor\":\"white\",\"linecolor\":\"white\",\"ticks\":\"\",\"title\":{\"standoff\":15},\"zerolinecolor\":\"white\",\"automargin\":true,\"zerolinewidth\":2},\"scene\":{\"xaxis\":{\"backgroundcolor\":\"#E5ECF6\",\"gridcolor\":\"white\",\"linecolor\":\"white\",\"showbackground\":true,\"ticks\":\"\",\"zerolinecolor\":\"white\",\"gridwidth\":2},\"yaxis\":{\"backgroundcolor\":\"#E5ECF6\",\"gridcolor\":\"white\",\"linecolor\":\"white\",\"showbackground\":true,\"ticks\":\"\",\"zerolinecolor\":\"white\",\"gridwidth\":2},\"zaxis\":{\"backgroundcolor\":\"#E5ECF6\",\"gridcolor\":\"white\",\"linecolor\":\"white\",\"showbackground\":true,\"ticks\":\"\",\"zerolinecolor\":\"white\",\"gridwidth\":2}},\"shapedefaults\":{\"line\":{\"color\":\"#2a3f5f\"}},\"annotationdefaults\":{\"arrowcolor\":\"#2a3f5f\",\"arrowhead\":0,\"arrowwidth\":1},\"geo\":{\"bgcolor\":\"white\",\"landcolor\":\"#E5ECF6\",\"subunitcolor\":\"white\",\"showland\":true,\"showlakes\":true,\"lakecolor\":\"white\"},\"title\":{\"x\":0.05},\"mapbox\":{\"style\":\"light\"}}},\"xaxis\":{\"tickmode\":\"array\",\"tickvals\":[2009,2010,2011,2012,2013,2014,2015,2016,2017,2018,2019,2020,2021,2022],\"ticktext\":[2009,2010,2011,2012,2013,2014,2015,2016,2017,2018,2019,2020,2021,2022],\"title\":{\"text\":\"Year\"}},\"title\":{\"text\":\"Forestry sector's contribution to Estonian and Finnish GDP, alternative values from Luke database\"},\"yaxis\":{\"title\":{\"text\":\"Percentage of forestry sector in GDP\"},\"range\":[0,2.303111463089246]}},                        {\"responsive\": true}                    ).then(function(){\n",
              "                            \n",
              "var gd = document.getElementById('8125225c-1b94-4284-bdf7-6ae9c29f1737');\n",
              "var x = new MutationObserver(function (mutations, observer) {{\n",
              "        var display = window.getComputedStyle(gd).display;\n",
              "        if (!display || display === 'none') {{\n",
              "            console.log([gd, 'removed!']);\n",
              "            Plotly.purge(gd);\n",
              "            observer.disconnect();\n",
              "        }}\n",
              "}});\n",
              "\n",
              "// Listen for the removal of the full notebook cells\n",
              "var notebookContainer = gd.closest('#notebook-container');\n",
              "if (notebookContainer) {{\n",
              "    x.observe(notebookContainer, {childList: true});\n",
              "}}\n",
              "\n",
              "// Listen for the clearing of the current output cell\n",
              "var outputEl = gd.closest('.output');\n",
              "if (outputEl) {{\n",
              "    x.observe(outputEl, {childList: true});\n",
              "}}\n",
              "\n",
              "                        })                };                            </script>        </div>\n",
              "</body>\n",
              "</html>"
            ]
          },
          "metadata": {},
          "output_type": "display_data"
        }
      ],
      "source": [
        "# List of years that are being plotted\n",
        "years = list(range(2009, 2023))\n",
        "\n",
        "# Traces for Estonian and Finnish forestry sector to GDP data\n",
        "trace1 = go.Scatter(x=years,\n",
        "                    y=est_forest_to_gdp,\n",
        "                    mode='lines+markers',\n",
        "                    name='Estonia'\n",
        "                    )\n",
        "\n",
        "trace2 = go.Scatter(x=years,\n",
        "                    y=fin_forest_to_gdp,\n",
        "                    mode='lines+markers',\n",
        "                    name='Finland from Statistics Finland database'\n",
        "                    )\n",
        "\n",
        "trace3 = go.Scatter(x=years,\n",
        "                    y=alt_fin_forest_to_gdp,\n",
        "                    mode='lines+markers',\n",
        "                    name='Finland from Luke database'\n",
        "                    )\n",
        "\n",
        "# Figure from the two traces\n",
        "fig = go.Figure(data=[trace1, trace2, trace3])\n",
        "\n",
        "fig.update_layout(\n",
        "    xaxis=dict(tickmode='array', tickvals=years, ticktext=years),\n",
        "    title=\"Forestry sector's contribution to Estonian and Finnish GDP, with alternative values from Luke database\",\n",
        "    xaxis_title='Year',\n",
        "    yaxis_title=\"Percentage of forestry sector in GDP\"\n",
        "    )\n",
        "\n",
        "# Set y-axis to start from 0\n",
        "max_value = max(max(est_forest_to_gdp), max(alt_fin_forest_to_gdp), max(fin_forest_to_gdp))\n",
        "fig.update_yaxes(range=[0, (max_value + 0.1)])\n",
        "\n",
        "# Showing the figure\n",
        "fig.show()"
      ]
    },
    {
      "cell_type": "code",
      "execution_count": 58,
      "metadata": {
        "id": "ZBSXtCrMw49y"
      },
      "outputs": [],
      "source": [
        "alt_value_added_per_area_fin = [(i * 1e6) / (j * 1e3) for i, j in zip(\n",
        "    luke_forest_va_Meur['value'], usable_forestry_area_fin_expanded[0:-1])]"
      ]
    },
    {
      "cell_type": "code",
      "execution_count": 59,
      "metadata": {
        "colab": {
          "base_uri": "https://localhost:8080/",
          "height": 542
        },
        "id": "NlEAPpQhxXzy",
        "outputId": "2f1f26d0-952b-4fb3-eb80-7a8e506c6703"
      },
      "outputs": [
        {
          "data": {
            "text/html": [
              "<html>\n",
              "<head><meta charset=\"utf-8\" /></head>\n",
              "<body>\n",
              "    <div>            <script src=\"https://cdnjs.cloudflare.com/ajax/libs/mathjax/2.7.5/MathJax.js?config=TeX-AMS-MML_SVG\"></script><script type=\"text/javascript\">if (window.MathJax && window.MathJax.Hub && window.MathJax.Hub.Config) {window.MathJax.Hub.Config({SVG: {font: \"STIX-Web\"}});}</script>                <script type=\"text/javascript\">window.PlotlyConfig = {MathJaxConfig: 'local'};</script>\n",
              "        <script charset=\"utf-8\" src=\"https://cdn.plot.ly/plotly-2.24.1.min.js\"></script>                <div id=\"63b1cf09-01a9-4d5b-9e46-8fec0f018647\" class=\"plotly-graph-div\" style=\"height:525px; width:100%;\"></div>            <script type=\"text/javascript\">                                    window.PLOTLYENV=window.PLOTLYENV || {};                                    if (document.getElementById(\"63b1cf09-01a9-4d5b-9e46-8fec0f018647\")) {                    Plotly.newPlot(                        \"63b1cf09-01a9-4d5b-9e46-8fec0f018647\",                        [{\"mode\":\"lines+markers\",\"name\":\"Estonia\",\"x\":[2009,2010,2011,2012,2013,2014,2015,2016,2017,2018,2019,2020,2021,2022],\"y\":[75.28369220898993,104.37771172996425,134.2599358946128,100.91031569530647,109.81179045263356,126.72334540201285,133.77548021818535,131.88571757594352,123.03346411481174,144.5158127185777,159.23462785779623,127.21119675061101,163.49262409784217,218.36228287841192],\"type\":\"scatter\"},{\"mode\":\"lines+markers\",\"name\":\"Finland\",\"x\":[2009,2010,2011,2012,2013,2014,2015,2016,2017,2018,2019,2020,2021,2022],\"y\":[118.98231169585522,191.0816280431305,169.64545022888305,162.86885208115322,180.61708532520757,177.75713954028325,195.2635244950081,187.508706756443,211.88762479684235,232.22660784768982,194.11816821087677,164.08883832190136,255.855486181379],\"type\":\"scatter\"}],                        {\"template\":{\"data\":{\"histogram2dcontour\":[{\"type\":\"histogram2dcontour\",\"colorbar\":{\"outlinewidth\":0,\"ticks\":\"\"},\"colorscale\":[[0.0,\"#0d0887\"],[0.1111111111111111,\"#46039f\"],[0.2222222222222222,\"#7201a8\"],[0.3333333333333333,\"#9c179e\"],[0.4444444444444444,\"#bd3786\"],[0.5555555555555556,\"#d8576b\"],[0.6666666666666666,\"#ed7953\"],[0.7777777777777778,\"#fb9f3a\"],[0.8888888888888888,\"#fdca26\"],[1.0,\"#f0f921\"]]}],\"choropleth\":[{\"type\":\"choropleth\",\"colorbar\":{\"outlinewidth\":0,\"ticks\":\"\"}}],\"histogram2d\":[{\"type\":\"histogram2d\",\"colorbar\":{\"outlinewidth\":0,\"ticks\":\"\"},\"colorscale\":[[0.0,\"#0d0887\"],[0.1111111111111111,\"#46039f\"],[0.2222222222222222,\"#7201a8\"],[0.3333333333333333,\"#9c179e\"],[0.4444444444444444,\"#bd3786\"],[0.5555555555555556,\"#d8576b\"],[0.6666666666666666,\"#ed7953\"],[0.7777777777777778,\"#fb9f3a\"],[0.8888888888888888,\"#fdca26\"],[1.0,\"#f0f921\"]]}],\"heatmap\":[{\"type\":\"heatmap\",\"colorbar\":{\"outlinewidth\":0,\"ticks\":\"\"},\"colorscale\":[[0.0,\"#0d0887\"],[0.1111111111111111,\"#46039f\"],[0.2222222222222222,\"#7201a8\"],[0.3333333333333333,\"#9c179e\"],[0.4444444444444444,\"#bd3786\"],[0.5555555555555556,\"#d8576b\"],[0.6666666666666666,\"#ed7953\"],[0.7777777777777778,\"#fb9f3a\"],[0.8888888888888888,\"#fdca26\"],[1.0,\"#f0f921\"]]}],\"heatmapgl\":[{\"type\":\"heatmapgl\",\"colorbar\":{\"outlinewidth\":0,\"ticks\":\"\"},\"colorscale\":[[0.0,\"#0d0887\"],[0.1111111111111111,\"#46039f\"],[0.2222222222222222,\"#7201a8\"],[0.3333333333333333,\"#9c179e\"],[0.4444444444444444,\"#bd3786\"],[0.5555555555555556,\"#d8576b\"],[0.6666666666666666,\"#ed7953\"],[0.7777777777777778,\"#fb9f3a\"],[0.8888888888888888,\"#fdca26\"],[1.0,\"#f0f921\"]]}],\"contourcarpet\":[{\"type\":\"contourcarpet\",\"colorbar\":{\"outlinewidth\":0,\"ticks\":\"\"}}],\"contour\":[{\"type\":\"contour\",\"colorbar\":{\"outlinewidth\":0,\"ticks\":\"\"},\"colorscale\":[[0.0,\"#0d0887\"],[0.1111111111111111,\"#46039f\"],[0.2222222222222222,\"#7201a8\"],[0.3333333333333333,\"#9c179e\"],[0.4444444444444444,\"#bd3786\"],[0.5555555555555556,\"#d8576b\"],[0.6666666666666666,\"#ed7953\"],[0.7777777777777778,\"#fb9f3a\"],[0.8888888888888888,\"#fdca26\"],[1.0,\"#f0f921\"]]}],\"surface\":[{\"type\":\"surface\",\"colorbar\":{\"outlinewidth\":0,\"ticks\":\"\"},\"colorscale\":[[0.0,\"#0d0887\"],[0.1111111111111111,\"#46039f\"],[0.2222222222222222,\"#7201a8\"],[0.3333333333333333,\"#9c179e\"],[0.4444444444444444,\"#bd3786\"],[0.5555555555555556,\"#d8576b\"],[0.6666666666666666,\"#ed7953\"],[0.7777777777777778,\"#fb9f3a\"],[0.8888888888888888,\"#fdca26\"],[1.0,\"#f0f921\"]]}],\"mesh3d\":[{\"type\":\"mesh3d\",\"colorbar\":{\"outlinewidth\":0,\"ticks\":\"\"}}],\"scatter\":[{\"fillpattern\":{\"fillmode\":\"overlay\",\"size\":10,\"solidity\":0.2},\"type\":\"scatter\"}],\"parcoords\":[{\"type\":\"parcoords\",\"line\":{\"colorbar\":{\"outlinewidth\":0,\"ticks\":\"\"}}}],\"scatterpolargl\":[{\"type\":\"scatterpolargl\",\"marker\":{\"colorbar\":{\"outlinewidth\":0,\"ticks\":\"\"}}}],\"bar\":[{\"error_x\":{\"color\":\"#2a3f5f\"},\"error_y\":{\"color\":\"#2a3f5f\"},\"marker\":{\"line\":{\"color\":\"#E5ECF6\",\"width\":0.5},\"pattern\":{\"fillmode\":\"overlay\",\"size\":10,\"solidity\":0.2}},\"type\":\"bar\"}],\"scattergeo\":[{\"type\":\"scattergeo\",\"marker\":{\"colorbar\":{\"outlinewidth\":0,\"ticks\":\"\"}}}],\"scatterpolar\":[{\"type\":\"scatterpolar\",\"marker\":{\"colorbar\":{\"outlinewidth\":0,\"ticks\":\"\"}}}],\"histogram\":[{\"marker\":{\"pattern\":{\"fillmode\":\"overlay\",\"size\":10,\"solidity\":0.2}},\"type\":\"histogram\"}],\"scattergl\":[{\"type\":\"scattergl\",\"marker\":{\"colorbar\":{\"outlinewidth\":0,\"ticks\":\"\"}}}],\"scatter3d\":[{\"type\":\"scatter3d\",\"line\":{\"colorbar\":{\"outlinewidth\":0,\"ticks\":\"\"}},\"marker\":{\"colorbar\":{\"outlinewidth\":0,\"ticks\":\"\"}}}],\"scattermapbox\":[{\"type\":\"scattermapbox\",\"marker\":{\"colorbar\":{\"outlinewidth\":0,\"ticks\":\"\"}}}],\"scatterternary\":[{\"type\":\"scatterternary\",\"marker\":{\"colorbar\":{\"outlinewidth\":0,\"ticks\":\"\"}}}],\"scattercarpet\":[{\"type\":\"scattercarpet\",\"marker\":{\"colorbar\":{\"outlinewidth\":0,\"ticks\":\"\"}}}],\"carpet\":[{\"aaxis\":{\"endlinecolor\":\"#2a3f5f\",\"gridcolor\":\"white\",\"linecolor\":\"white\",\"minorgridcolor\":\"white\",\"startlinecolor\":\"#2a3f5f\"},\"baxis\":{\"endlinecolor\":\"#2a3f5f\",\"gridcolor\":\"white\",\"linecolor\":\"white\",\"minorgridcolor\":\"white\",\"startlinecolor\":\"#2a3f5f\"},\"type\":\"carpet\"}],\"table\":[{\"cells\":{\"fill\":{\"color\":\"#EBF0F8\"},\"line\":{\"color\":\"white\"}},\"header\":{\"fill\":{\"color\":\"#C8D4E3\"},\"line\":{\"color\":\"white\"}},\"type\":\"table\"}],\"barpolar\":[{\"marker\":{\"line\":{\"color\":\"#E5ECF6\",\"width\":0.5},\"pattern\":{\"fillmode\":\"overlay\",\"size\":10,\"solidity\":0.2}},\"type\":\"barpolar\"}],\"pie\":[{\"automargin\":true,\"type\":\"pie\"}]},\"layout\":{\"autotypenumbers\":\"strict\",\"colorway\":[\"#636efa\",\"#EF553B\",\"#00cc96\",\"#ab63fa\",\"#FFA15A\",\"#19d3f3\",\"#FF6692\",\"#B6E880\",\"#FF97FF\",\"#FECB52\"],\"font\":{\"color\":\"#2a3f5f\"},\"hovermode\":\"closest\",\"hoverlabel\":{\"align\":\"left\"},\"paper_bgcolor\":\"white\",\"plot_bgcolor\":\"#E5ECF6\",\"polar\":{\"bgcolor\":\"#E5ECF6\",\"angularaxis\":{\"gridcolor\":\"white\",\"linecolor\":\"white\",\"ticks\":\"\"},\"radialaxis\":{\"gridcolor\":\"white\",\"linecolor\":\"white\",\"ticks\":\"\"}},\"ternary\":{\"bgcolor\":\"#E5ECF6\",\"aaxis\":{\"gridcolor\":\"white\",\"linecolor\":\"white\",\"ticks\":\"\"},\"baxis\":{\"gridcolor\":\"white\",\"linecolor\":\"white\",\"ticks\":\"\"},\"caxis\":{\"gridcolor\":\"white\",\"linecolor\":\"white\",\"ticks\":\"\"}},\"coloraxis\":{\"colorbar\":{\"outlinewidth\":0,\"ticks\":\"\"}},\"colorscale\":{\"sequential\":[[0.0,\"#0d0887\"],[0.1111111111111111,\"#46039f\"],[0.2222222222222222,\"#7201a8\"],[0.3333333333333333,\"#9c179e\"],[0.4444444444444444,\"#bd3786\"],[0.5555555555555556,\"#d8576b\"],[0.6666666666666666,\"#ed7953\"],[0.7777777777777778,\"#fb9f3a\"],[0.8888888888888888,\"#fdca26\"],[1.0,\"#f0f921\"]],\"sequentialminus\":[[0.0,\"#0d0887\"],[0.1111111111111111,\"#46039f\"],[0.2222222222222222,\"#7201a8\"],[0.3333333333333333,\"#9c179e\"],[0.4444444444444444,\"#bd3786\"],[0.5555555555555556,\"#d8576b\"],[0.6666666666666666,\"#ed7953\"],[0.7777777777777778,\"#fb9f3a\"],[0.8888888888888888,\"#fdca26\"],[1.0,\"#f0f921\"]],\"diverging\":[[0,\"#8e0152\"],[0.1,\"#c51b7d\"],[0.2,\"#de77ae\"],[0.3,\"#f1b6da\"],[0.4,\"#fde0ef\"],[0.5,\"#f7f7f7\"],[0.6,\"#e6f5d0\"],[0.7,\"#b8e186\"],[0.8,\"#7fbc41\"],[0.9,\"#4d9221\"],[1,\"#276419\"]]},\"xaxis\":{\"gridcolor\":\"white\",\"linecolor\":\"white\",\"ticks\":\"\",\"title\":{\"standoff\":15},\"zerolinecolor\":\"white\",\"automargin\":true,\"zerolinewidth\":2},\"yaxis\":{\"gridcolor\":\"white\",\"linecolor\":\"white\",\"ticks\":\"\",\"title\":{\"standoff\":15},\"zerolinecolor\":\"white\",\"automargin\":true,\"zerolinewidth\":2},\"scene\":{\"xaxis\":{\"backgroundcolor\":\"#E5ECF6\",\"gridcolor\":\"white\",\"linecolor\":\"white\",\"showbackground\":true,\"ticks\":\"\",\"zerolinecolor\":\"white\",\"gridwidth\":2},\"yaxis\":{\"backgroundcolor\":\"#E5ECF6\",\"gridcolor\":\"white\",\"linecolor\":\"white\",\"showbackground\":true,\"ticks\":\"\",\"zerolinecolor\":\"white\",\"gridwidth\":2},\"zaxis\":{\"backgroundcolor\":\"#E5ECF6\",\"gridcolor\":\"white\",\"linecolor\":\"white\",\"showbackground\":true,\"ticks\":\"\",\"zerolinecolor\":\"white\",\"gridwidth\":2}},\"shapedefaults\":{\"line\":{\"color\":\"#2a3f5f\"}},\"annotationdefaults\":{\"arrowcolor\":\"#2a3f5f\",\"arrowhead\":0,\"arrowwidth\":1},\"geo\":{\"bgcolor\":\"white\",\"landcolor\":\"#E5ECF6\",\"subunitcolor\":\"white\",\"showland\":true,\"showlakes\":true,\"lakecolor\":\"white\"},\"title\":{\"x\":0.05},\"mapbox\":{\"style\":\"light\"}}},\"xaxis\":{\"tickmode\":\"array\",\"tickvals\":[2009,2010,2011,2012,2013,2014,2015,2016,2017,2018,2019,2020,2021,2022],\"ticktext\":[2009,2010,2011,2012,2013,2014,2015,2016,2017,2018,2019,2020,2021,2022],\"title\":{\"text\":\"Year\"}},\"title\":{\"text\":\"Value added per 1 hectare of forestry area (in euros) for Estonia and Finland, alternative values from Luke database\"},\"yaxis\":{\"title\":{\"text\":\"Value added per 1 ha of forestry area\"}}},                        {\"responsive\": true}                    ).then(function(){\n",
              "                            \n",
              "var gd = document.getElementById('63b1cf09-01a9-4d5b-9e46-8fec0f018647');\n",
              "var x = new MutationObserver(function (mutations, observer) {{\n",
              "        var display = window.getComputedStyle(gd).display;\n",
              "        if (!display || display === 'none') {{\n",
              "            console.log([gd, 'removed!']);\n",
              "            Plotly.purge(gd);\n",
              "            observer.disconnect();\n",
              "        }}\n",
              "}});\n",
              "\n",
              "// Listen for the removal of the full notebook cells\n",
              "var notebookContainer = gd.closest('#notebook-container');\n",
              "if (notebookContainer) {{\n",
              "    x.observe(notebookContainer, {childList: true});\n",
              "}}\n",
              "\n",
              "// Listen for the clearing of the current output cell\n",
              "var outputEl = gd.closest('.output');\n",
              "if (outputEl) {{\n",
              "    x.observe(outputEl, {childList: true});\n",
              "}}\n",
              "\n",
              "                        })                };                            </script>        </div>\n",
              "</body>\n",
              "</html>"
            ]
          },
          "metadata": {},
          "output_type": "display_data"
        }
      ],
      "source": [
        "# List of years that are being plotted\n",
        "years = list(range(2009, 2023))\n",
        "\n",
        "# Traces for Estonian and Finnish value added per forest unit area\n",
        "trace_est = go.Scatter(x=years,\n",
        "                       y=value_added_per_area_est,\n",
        "                       mode='lines+markers',\n",
        "                       name='Estonia'\n",
        "                       )\n",
        "\n",
        "trace_fin = go.Scatter(x=years,\n",
        "                       y=value_added_per_area_fin,\n",
        "                       mode='lines+markers',\n",
        "                       name='Finland (Statistics Finland database)'\n",
        "                       )\n",
        "\n",
        "trace_fin2 = go.Scatter(x=years,\n",
        "                       y=alt_value_added_per_area_fin,\n",
        "                       mode='lines+markers',\n",
        "                       name='Finland (Luke database)'\n",
        "                       )\n",
        "\n",
        "# Figure from the two traces\n",
        "fig = go.Figure(data=[trace_est, trace_fin, trace_fin2])\n",
        "\n",
        "fig.update_layout(\n",
        "    xaxis=dict(tickmode='array', tickvals=years, ticktext=years),\n",
        "    title=\"Value added per 1 hectare of forestry area (in euros) for Estonia and Finland, with alternative values from Luke database\",\n",
        "    xaxis_title='Year',\n",
        "    yaxis_title=\"Value added per 1 ha of forestry area\"\n",
        ")\n",
        "# Showing the figure\n",
        "fig.show()"
      ]
    },
    {
      "cell_type": "markdown",
      "metadata": {
        "id": "_C9jkiVZyRDI"
      },
      "source": [
        "There is a noticable difference in the graphs using values for Finnish forestry sector's value added from Statistics Finland database and Luke database.\n",
        "\n",
        "It is difficult to say exactly where the difference in values comes from since Statistics Finland is listed as a source for the Luke forestry sector's value added table. However for our comparisons it is still reasonable to rather consider the Statistics Finland data, because it is compiled in accordance with EU standards, so it can be compared with other EU states."
      ]
    }
  ],
  "metadata": {
    "colab": {
      "provenance": []
    },
    "kernelspec": {
      "display_name": "Python 3",
      "name": "python3"
    },
    "language_info": {
      "name": "python"
    }
  },
  "nbformat": 4,
  "nbformat_minor": 0
}
